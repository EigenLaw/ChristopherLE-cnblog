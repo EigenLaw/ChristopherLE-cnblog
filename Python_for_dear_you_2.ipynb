{
 "cells": [
  {
   "cell_type": "markdown",
   "metadata": {},
   "source": [
    "# Python基础2"
   ]
  },
  {
   "cell_type": "markdown",
   "metadata": {},
   "source": [
    "> 又到了中文+Python基础的时刻了，多开心多轻松的时刻，It's show time! 伴随着这首刺破耳膜的歌，指尖起舞。。。（---你是在弹Piano吗？ ---我在编程 ---She精病）"
   ]
  },
  {
   "cell_type": "markdown",
   "metadata": {},
   "source": [
    "# 推导式"
   ]
  },
  {
   "cell_type": "code",
   "execution_count": 2,
   "metadata": {},
   "outputs": [
    {
     "data": {
      "text/plain": [
       "[0, 1, 4, 9, 16, 25, 36, 49, 64, 81]"
      ]
     },
     "execution_count": 2,
     "metadata": {},
     "output_type": "execute_result"
    }
   ],
   "source": [
    "[i**2 for i in range(10)]#也可以用for啥啥，啥啥啥循环，但这个更优雅和快速"
   ]
  },
  {
   "cell_type": "markdown",
   "metadata": {},
   "source": [
    "# 装饰器 - 不改变原函数的情况下更新输出"
   ]
  },
  {
   "cell_type": "code",
   "execution_count": 5,
   "metadata": {},
   "outputs": [],
   "source": [
    "def mse_box(list_input):\n",
    "    \"\"\"\n",
    "    input: list\n",
    "    output: int, mean square error of the list\n",
    "    \"\"\"\n",
    "    mean_list = sum(list_input)/len(list_input)\n",
    "    list_square_error = [(i-mean_list)**2 for i in list_input]\n",
    "    mean_square_error = sum(list_square_error)/len(list_square_error)\n",
    "    return(mean_square_error)"
   ]
  },
  {
   "cell_type": "code",
   "execution_count": 7,
   "metadata": {},
   "outputs": [
    {
     "data": {
      "text/plain": [
       "0.5"
      ]
     },
     "execution_count": 7,
     "metadata": {},
     "output_type": "execute_result"
    }
   ],
   "source": [
    "mse_box([1, 2, 3, 2])"
   ]
  },
  {
   "cell_type": "code",
   "execution_count": 35,
   "metadata": {},
   "outputs": [],
   "source": [
    "def outer(func):#参数为函数func，接下来func会放mse_box()\n",
    "    def decorate(*args, **kwargs):#*args, **kwargs代表可以接收各类参数了\n",
    "        print(\"Input list is: {0}\".format(*args))\n",
    "        input0 = list(*args)#不能直接print(*args)，要加list()\n",
    "        print(\"Function name is: {}, output is:\".format(func.__name__))\n",
    "        print (func(*args, **kwargs))\n",
    "    \n",
    "        mse0 = func(*args, **kwargs)\n",
    "        print(\"make adjustment to {0}:\".format(func.__name__))\n",
    "        print(\"each element of input decreases mse, and the new output is: \")\n",
    "        print([i-mse0 for i in input0])#如果要输出该部分，加个return()即可\n",
    "    return decorate"
   ]
  },
  {
   "cell_type": "code",
   "execution_count": 36,
   "metadata": {},
   "outputs": [],
   "source": [
    "@outer\n",
    "def mse_box(list_input):\n",
    "    \"\"\"\n",
    "    input: list\n",
    "    output: int, mean square error of the list\n",
    "    \"\"\"\n",
    "    mean_list = sum(list_input)/len(list_input)\n",
    "    list_square_error = [(i-mean_list)**2 for i in list_input]\n",
    "    mean_square_error = sum(list_square_error)/len(list_square_error)\n",
    "    return(mean_square_error)"
   ]
  },
  {
   "cell_type": "code",
   "execution_count": 37,
   "metadata": {},
   "outputs": [
    {
     "name": "stdout",
     "output_type": "stream",
     "text": [
      "Input list is: [1, 2, 3, 2]\n",
      "Function name is: mse_box, output is:\n",
      "0.5\n",
      "make adjustment to mse_box:\n",
      "each element of input decreases mse, and the new output is: \n",
      "[0.5, 1.5, 2.5, 1.5]\n"
     ]
    }
   ],
   "source": [
    "mse_box([1, 2, 3, 2])"
   ]
  },
  {
   "cell_type": "markdown",
   "metadata": {},
   "source": [
    "> 装饰器的作用：此例中，为了修改mse_box函数，单独在外面将mse_box该func及其参数拎出来，在外头修改。\n",
    "单独修改的好处：假如第二个模块引用了mse_box，且该模块只需要计算均方差，不需要进行任何改动，那装饰器就make a difference了。\n"
   ]
  },
  {
   "cell_type": "markdown",
   "metadata": {},
   "source": [
    "# Dict"
   ]
  },
  {
   "cell_type": "code",
   "execution_count": 38,
   "metadata": {},
   "outputs": [],
   "source": [
    "keys = [\"a\", \"b\", \"c\"]\n",
    "value = [1, 2, 3]"
   ]
  },
  {
   "cell_type": "code",
   "execution_count": 42,
   "metadata": {},
   "outputs": [
    {
     "data": {
      "text/plain": [
       "{'a': 1, 'b': 2, 'c': 3}"
      ]
     },
     "execution_count": 42,
     "metadata": {},
     "output_type": "execute_result"
    }
   ],
   "source": [
    "dict(zip(keys, value))#用dict嵌套zip可以比较快地生成字典"
   ]
  },
  {
   "cell_type": "markdown",
   "metadata": {},
   "source": [
    "> 同样地，用推导式将数据转换成字典比较方便，但有些费脑"
   ]
  },
  {
   "cell_type": "code",
   "execution_count": 48,
   "metadata": {},
   "outputs": [],
   "source": [
    "raw_data = \"水果：柿子，蔬菜：西红柿，其他：灯笼\""
   ]
  },
  {
   "cell_type": "code",
   "execution_count": 50,
   "metadata": {},
   "outputs": [
    {
     "data": {
      "text/plain": [
       "{'其他': '灯笼', '水果': '柿子', '蔬菜': '西红柿'}"
      ]
     },
     "execution_count": 50,
     "metadata": {},
     "output_type": "execute_result"
    }
   ],
   "source": [
    "{a:b for a,b in (j.split(\"：\") for j in [i for i in raw_data.split(\"，\")])}"
   ]
  },
  {
   "cell_type": "markdown",
   "metadata": {},
   "source": [
    "# try except"
   ]
  },
  {
   "cell_type": "markdown",
   "metadata": {},
   "source": [
    "> 使用try可以避免报错就中断整个程序，使用except来发现是不是我们注释的地方中断了，方便找错"
   ]
  },
  {
   "cell_type": "code",
   "execution_count": 52,
   "metadata": {},
   "outputs": [
    {
     "name": "stdout",
     "output_type": "stream",
     "text": [
      "If you see this, raw_data doesn't have length as long as 100\n",
      "True\n",
      "If you see this, raw_data can't add number\n"
     ]
    }
   ],
   "source": [
    "try:\n",
    "    print(raw_data[100])\n",
    "except:\n",
    "    print(\"If you see this, raw_data doesn't have length as long as 100\")\n",
    "\n",
    "try:\n",
    "    print(raw_data[:2] == \"水果\")\n",
    "except:\n",
    "    print(\"If you see this, first two words of raw_data are not 水果\")\n",
    "    \n",
    "try:\n",
    "    print(raw_data+1)\n",
    "except:\n",
    "    print(\"If you see this, raw_data can't add number\")"
   ]
  },
  {
   "cell_type": "markdown",
   "metadata": {},
   "source": [
    "# OS文档操作"
   ]
  },
  {
   "cell_type": "code",
   "execution_count": 53,
   "metadata": {},
   "outputs": [
    {
     "data": {
      "text/plain": [
       "'/code'"
      ]
     },
     "execution_count": 53,
     "metadata": {},
     "output_type": "execute_result"
    }
   ],
   "source": [
    "import os#自带包，不需要额外pip install xxx\n",
    "#不清楚os有什么功能，输入os.摁TAB吧\n",
    "os.getcwd()# get current working directory"
   ]
  },
  {
   "cell_type": "code",
   "execution_count": 55,
   "metadata": {},
   "outputs": [
    {
     "data": {
      "text/plain": [
       "['data',\n",
       " 'Untitled.ipynb',\n",
       " 'Homework',\n",
       " 'Python_for_dear_you_2.ipynb',\n",
       " 'Python_Notes_2_DataBase.ipynb']"
      ]
     },
     "execution_count": 55,
     "metadata": {},
     "output_type": "execute_result"
    }
   ],
   "source": [
    "os.listdir()[-5:]#list directory of current working directory,输出格式为list"
   ]
  },
  {
   "cell_type": "code",
   "execution_count": 56,
   "metadata": {},
   "outputs": [
    {
     "data": {
      "text/plain": [
       "['faster_rcnn.ipynb',\n",
       " 'Python_Notes_1_Python_Basics.ipynb',\n",
       " 'Python_for_dear_you.ipynb',\n",
       " 'Untitled.ipynb',\n",
       " 'Python_for_dear_you_2.ipynb',\n",
       " 'Python_Notes_2_DataBase.ipynb']"
      ]
     },
     "execution_count": 56,
     "metadata": {},
     "output_type": "execute_result"
    }
   ],
   "source": [
    "#查看所有Jupyter notebook格式文档\n",
    "[file for file in os.listdir() if file[-5:] == 'ipynb']#推导式，怎么又是你"
   ]
  },
  {
   "cell_type": "code",
   "execution_count": 58,
   "metadata": {},
   "outputs": [],
   "source": [
    "# 改变目前工作路径\n",
    "os.chdir(\"/code/python_data_analysis\")"
   ]
  },
  {
   "cell_type": "markdown",
   "metadata": {},
   "source": [
    "# 正则表达式及re包的运用"
   ]
  },
  {
   "cell_type": "markdown",
   "metadata": {},
   "source": [
    "__Ans:__\n",
    "\n",
    "- [c,m,f]an: can, man, fan; [^b]og to skip bog\n",
    "- [^a-z]\\w+ skip lower case begined string; \\w means [A-Za-z0-9]; \\d means [0-9]\n",
    "- z{3} match z three times: uzzz, wuzzzz; .{2,6} match string with length of 2-6\n",
    "- \\? match ?\n",
    "- whitespace: space (␣), the tab (\\t), the new line (\\n) and the carriage return (\\r) \n",
    "- \\s will match any of the specific whitespaces above\n",
    "- \\D represents any non-digit character, \\S any non-whitespace character, and \\W any non-alphanumeric\n",
    "- ^Mission: successful\\$ ^为字符串开始 and $为字符串结尾\n",
    "- ^(file_\\w+) can match file_record_transcript in file_record_transcript.pdf\n",
    "- ^([A-Z]\\w{2} (\\d{4})) 括号中为提取的信息，此处不但提取Jan 1987，还提取1987\n",
    "- ^I love cats|I love dogs\\$ match \"I love cats\"或\"I love dogs\"\n",
    "- ^The.* match string starting with \"The\"\n",
    "\n",
    "> 正则表达式的练习在线网址: https://regexone.com/"
   ]
  },
  {
   "cell_type": "markdown",
   "metadata": {},
   "source": [
    "> 触发支线任务--爬虫"
   ]
  },
  {
   "cell_type": "code",
   "execution_count": 70,
   "metadata": {},
   "outputs": [],
   "source": [
    "dir_name = os.listdir()"
   ]
  },
  {
   "cell_type": "code",
   "execution_count": 83,
   "metadata": {},
   "outputs": [
    {
     "data": {
      "text/plain": [
       "['csv_3.csv',\n",
       " '1_data_read.ipynb',\n",
       " 'Pandas_intro.ipynb',\n",
       " 'Assignment-01.ipynb',\n",
       " 'Untitled Folder 1']"
      ]
     },
     "execution_count": 83,
     "metadata": {},
     "output_type": "execute_result"
    }
   ],
   "source": [
    "dir_name[:5]"
   ]
  },
  {
   "cell_type": "code",
   "execution_count": 82,
   "metadata": {},
   "outputs": [
    {
     "name": "stdout",
     "output_type": "stream",
     "text": [
      "csv_3.csv\n",
      "csv_2.csv\n",
      "csv_8.csv\n",
      "csv_9.csv\n",
      "csv_6.csv\n",
      "csv_7.csv\n",
      "csv_5.csv\n",
      "csv_4.csv\n",
      "csv_10.csv\n",
      "csv_1.csv\n"
     ]
    }
   ],
   "source": [
    "import re\n",
    "for i in [re.findall(\"csv_\\d{1,2}\\.csv\", i) for i in dir_name]:\n",
    "    if i != []:\n",
    "        print(i[0])"
   ]
  },
  {
   "cell_type": "code",
   "execution_count": 84,
   "metadata": {},
   "outputs": [],
   "source": [
    "os.rename(\"Untitled Folder 1\", \"New Folder 1\")#可以重命名"
   ]
  },
  {
   "cell_type": "markdown",
   "metadata": {},
   "source": [
    "# 文档输入与输出"
   ]
  },
  {
   "cell_type": "code",
   "execution_count": 61,
   "metadata": {},
   "outputs": [],
   "source": [
    "import pandas as pd#经常用到的一个包，装了anaconda就自带\n",
    "df1 = pd.read_csv(\"csv1.csv\")#也可以试试pd.read_excel(\"表格1.xlsx\"); 输入pd.read_摁TAB可以查看其他输入"
   ]
  },
  {
   "cell_type": "code",
   "execution_count": 90,
   "metadata": {},
   "outputs": [
    {
     "data": {
      "text/html": [
       "<div>\n",
       "<style scoped>\n",
       "    .dataframe tbody tr th:only-of-type {\n",
       "        vertical-align: middle;\n",
       "    }\n",
       "\n",
       "    .dataframe tbody tr th {\n",
       "        vertical-align: top;\n",
       "    }\n",
       "\n",
       "    .dataframe thead th {\n",
       "        text-align: right;\n",
       "    }\n",
       "</style>\n",
       "<table border=\"1\" class=\"dataframe\">\n",
       "  <thead>\n",
       "    <tr style=\"text-align: right;\">\n",
       "      <th></th>\n",
       "      <th>ID</th>\n",
       "      <th>Score</th>\n",
       "      <th>Class</th>\n",
       "    </tr>\n",
       "  </thead>\n",
       "  <tbody>\n",
       "    <tr>\n",
       "      <th>0</th>\n",
       "      <td>1</td>\n",
       "      <td>99</td>\n",
       "      <td>A</td>\n",
       "    </tr>\n",
       "    <tr>\n",
       "      <th>1</th>\n",
       "      <td>2</td>\n",
       "      <td>83</td>\n",
       "      <td>B</td>\n",
       "    </tr>\n",
       "    <tr>\n",
       "      <th>2</th>\n",
       "      <td>3</td>\n",
       "      <td>84</td>\n",
       "      <td>C</td>\n",
       "    </tr>\n",
       "    <tr>\n",
       "      <th>3</th>\n",
       "      <td>4</td>\n",
       "      <td>86</td>\n",
       "      <td>A</td>\n",
       "    </tr>\n",
       "    <tr>\n",
       "      <th>4</th>\n",
       "      <td>5</td>\n",
       "      <td>88</td>\n",
       "      <td>B</td>\n",
       "    </tr>\n",
       "  </tbody>\n",
       "</table>\n",
       "</div>"
      ],
      "text/plain": [
       "   ID  Score Class\n",
       "0   1     99     A\n",
       "1   2     83     B\n",
       "2   3     84     C\n",
       "3   4     86     A\n",
       "4   5     88     B"
      ]
     },
     "execution_count": 90,
     "metadata": {},
     "output_type": "execute_result"
    }
   ],
   "source": [
    "df1.head()"
   ]
  },
  {
   "cell_type": "code",
   "execution_count": 63,
   "metadata": {},
   "outputs": [],
   "source": [
    "df1_head = df1.head()\n",
    "df1_head.to_csv(\"csv1_top5.csv\")#输出到文档，也可以试试df_data.to_excel(\"target.xlsxa)\n",
    "#设置index=False可以不打印额外的index"
   ]
  },
  {
   "cell_type": "code",
   "execution_count": 67,
   "metadata": {},
   "outputs": [],
   "source": [
    "#接着，制造一些数据留给你做Homework吧\n",
    "for i in range(10):\n",
    "    df = df1.head(i+1)\n",
    "    df.to_csv(\"csv_{}.csv\".format(i+1))#也可以试试输出为excel格式(.xlsx)"
   ]
  },
  {
   "cell_type": "markdown",
   "metadata": {},
   "source": [
    "# Homework\n",
    "> 背景：有没有遇到这样傻逼又无奈的事情：打开一堆Excel，然后把指定位置的数据摘出来放个新的表格。。。\n",
    "\n",
    "\n",
    "例如，将csv_n.csv打开（n为1到10），然后分别要\"csv_n.csv\"的第n行数据"
   ]
  },
  {
   "cell_type": "code",
   "execution_count": 92,
   "metadata": {},
   "outputs": [
    {
     "data": {
      "text/html": [
       "<div>\n",
       "<style scoped>\n",
       "    .dataframe tbody tr th:only-of-type {\n",
       "        vertical-align: middle;\n",
       "    }\n",
       "\n",
       "    .dataframe tbody tr th {\n",
       "        vertical-align: top;\n",
       "    }\n",
       "\n",
       "    .dataframe thead th {\n",
       "        text-align: right;\n",
       "    }\n",
       "</style>\n",
       "<table border=\"1\" class=\"dataframe\">\n",
       "  <thead>\n",
       "    <tr style=\"text-align: right;\">\n",
       "      <th></th>\n",
       "      <th>Unnamed: 0</th>\n",
       "      <th>ID</th>\n",
       "      <th>Score</th>\n",
       "      <th>Class</th>\n",
       "    </tr>\n",
       "  </thead>\n",
       "  <tbody>\n",
       "    <tr>\n",
       "      <th>0</th>\n",
       "      <td>0</td>\n",
       "      <td>1</td>\n",
       "      <td>99</td>\n",
       "      <td>A</td>\n",
       "    </tr>\n",
       "    <tr>\n",
       "      <th>1</th>\n",
       "      <td>1</td>\n",
       "      <td>2</td>\n",
       "      <td>83</td>\n",
       "      <td>B</td>\n",
       "    </tr>\n",
       "    <tr>\n",
       "      <th>2</th>\n",
       "      <td>2</td>\n",
       "      <td>3</td>\n",
       "      <td>84</td>\n",
       "      <td>C</td>\n",
       "    </tr>\n",
       "    <tr>\n",
       "      <th>3</th>\n",
       "      <td>3</td>\n",
       "      <td>4</td>\n",
       "      <td>86</td>\n",
       "      <td>A</td>\n",
       "    </tr>\n",
       "    <tr>\n",
       "      <th>4</th>\n",
       "      <td>4</td>\n",
       "      <td>5</td>\n",
       "      <td>88</td>\n",
       "      <td>B</td>\n",
       "    </tr>\n",
       "    <tr>\n",
       "      <th>5</th>\n",
       "      <td>5</td>\n",
       "      <td>6</td>\n",
       "      <td>82</td>\n",
       "      <td>C</td>\n",
       "    </tr>\n",
       "    <tr>\n",
       "      <th>6</th>\n",
       "      <td>6</td>\n",
       "      <td>7</td>\n",
       "      <td>97</td>\n",
       "      <td>A</td>\n",
       "    </tr>\n",
       "    <tr>\n",
       "      <th>7</th>\n",
       "      <td>7</td>\n",
       "      <td>8</td>\n",
       "      <td>100</td>\n",
       "      <td>B</td>\n",
       "    </tr>\n",
       "    <tr>\n",
       "      <th>8</th>\n",
       "      <td>8</td>\n",
       "      <td>9</td>\n",
       "      <td>98</td>\n",
       "      <td>C</td>\n",
       "    </tr>\n",
       "    <tr>\n",
       "      <th>9</th>\n",
       "      <td>9</td>\n",
       "      <td>10</td>\n",
       "      <td>83</td>\n",
       "      <td>A</td>\n",
       "    </tr>\n",
       "  </tbody>\n",
       "</table>\n",
       "</div>"
      ],
      "text/plain": [
       "   Unnamed: 0  ID  Score Class\n",
       "0           0   1     99     A\n",
       "1           1   2     83     B\n",
       "2           2   3     84     C\n",
       "3           3   4     86     A\n",
       "4           4   5     88     B\n",
       "5           5   6     82     C\n",
       "6           6   7     97     A\n",
       "7           7   8    100     B\n",
       "8           8   9     98     C\n",
       "9           9  10     83     A"
      ]
     },
     "execution_count": 92,
     "metadata": {},
     "output_type": "execute_result"
    }
   ],
   "source": [
    "import pandas as pd\n",
    "for i in range(10):\n",
    "    df = pd.read_csv(\"csv_{}.csv\".format(i+1))#也可以试试os.listdir吧，当你的Excel文档名字没有规律的时候\n",
    "    if i == 0:#第一个数据用来赋值\n",
    "        df0 = df.head(1)#df.iloc将表格变成二维数据，可引用，逗号前面指行list，后面指列list\n",
    "    else:\n",
    "        df0 = df0.append(df.iloc[i,:])\n",
    "\n",
    "del(df0[\"Unnamed: 0\"])#删掉多余的序号列，可以在pd.to_csv()里面设置 index=False，就不会输出index列了\n",
    "df0"
   ]
  }
 ],
 "metadata": {
  "kernelspec": {
   "display_name": "Python 3",
   "language": "python",
   "name": "python3"
  },
  "language_info": {
   "codemirror_mode": {
    "name": "ipython",
    "version": 3
   },
   "file_extension": ".py",
   "mimetype": "text/x-python",
   "name": "python",
   "nbconvert_exporter": "python",
   "pygments_lexer": "ipython3",
   "version": "3.5.2"
  }
 },
 "nbformat": 4,
 "nbformat_minor": 2
}
