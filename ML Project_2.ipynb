{
 "cells": [
  {
   "cell_type": "markdown",
   "metadata": {
    "toc": true
   },
   "source": [
    "<h1>Table of Contents<span class=\"tocSkip\"></span></h1>\n",
    "<div class=\"toc\"><ul class=\"toc-item\"><li><span><a href=\"#Analyse-the-background\" data-toc-modified-id=\"Analyse-the-background-1\"><span class=\"toc-item-num\">1&nbsp;&nbsp;</span>Analyse the background</a></span></li></ul></div>"
   ]
  },
  {
   "cell_type": "markdown",
   "metadata": {},
   "source": [
    "# Analyse the background"
   ]
  },
  {
   "cell_type": "markdown",
   "metadata": {},
   "source": [
    "> In this section, we discuss prominent hypotheses that have been proposed to explain the EU referendum result and how we try to capture them in our empirical analysis. "
   ]
  },
  {
   "cell_type": "markdown",
   "metadata": {},
   "source": [
    "**we will look at four broad groups of variables:**\n",
    "\n",
    "- EU exposure through immigration, trade and structural funds;\n",
    "\n",
    "- local public service provision and fiscal consolidation;\n",
    "\n",
    "- demography and education;\n",
    "\n",
    "- economic structure, wages and unemployment."
   ]
  },
  {
   "cell_type": "code",
   "execution_count": 8,
   "metadata": {},
   "outputs": [],
   "source": [
    "from pandas.io.stata import StataReader, StataWriter\n",
    "import pandas as pd"
   ]
  },
  {
   "cell_type": "code",
   "execution_count": 3,
   "metadata": {},
   "outputs": [],
   "source": [
    "stata_data = StataReader(\"referendum data.dta\", convert_categoricals=False)"
   ]
  },
  {
   "cell_type": "code",
   "execution_count": 4,
   "metadata": {},
   "outputs": [],
   "source": [
    "data = stata_data.read()\n",
    "varlist = stata_data.varlist\n",
    "value_labels = stata_data.value_labels() \n",
    "fmtlist = stata_data.fmtlist\n",
    "variable_labels = stata_data.variable_labels()"
   ]
  },
  {
   "cell_type": "code",
   "execution_count": 6,
   "metadata": {},
   "outputs": [],
   "source": [
    "var = [i for i in variable_labels]\n",
    "var_label = [variable_labels[i] for i in variable_labels]\n",
    "\n",
    "df_labels = pd.DataFrame({\"variable\": var, \"variable_label\": var_label})"
   ]
  },
  {
   "cell_type": "code",
   "execution_count": 136,
   "metadata": {
    "scrolled": true
   },
   "outputs": [
    {
     "data": {
      "text/html": [
       "<div>\n",
       "<style scoped>\n",
       "    .dataframe tbody tr th:only-of-type {\n",
       "        vertical-align: middle;\n",
       "    }\n",
       "\n",
       "    .dataframe tbody tr th {\n",
       "        vertical-align: top;\n",
       "    }\n",
       "\n",
       "    .dataframe thead th {\n",
       "        text-align: right;\n",
       "    }\n",
       "</style>\n",
       "<table border=\"1\" class=\"dataframe\">\n",
       "  <thead>\n",
       "    <tr style=\"text-align: right;\">\n",
       "      <th></th>\n",
       "      <th>variable</th>\n",
       "      <th>variable_label</th>\n",
       "    </tr>\n",
       "  </thead>\n",
       "  <tbody>\n",
       "    <tr>\n",
       "      <th>0</th>\n",
       "      <td>FinanceShareGrowth</td>\n",
       "      <td>Finance employment share change (2001-2011)</td>\n",
       "    </tr>\n",
       "    <tr>\n",
       "      <th>1</th>\n",
       "      <td>ind2001_Agriculture_sh</td>\n",
       "      <td>Agriculture employment share (2001)</td>\n",
       "    </tr>\n",
       "    <tr>\n",
       "      <th>2</th>\n",
       "      <td>ind2001_Finance_sh</td>\n",
       "      <td>Finance employment share (2001)</td>\n",
       "    </tr>\n",
       "    <tr>\n",
       "      <th>3</th>\n",
       "      <td>MigrantOldEUMemberGrowth</td>\n",
       "      <td>EU 15 migrant growth (2001-2011)</td>\n",
       "    </tr>\n",
       "    <tr>\n",
       "      <th>4</th>\n",
       "      <td>cc_2</td>\n",
       "      <td>country==N9</td>\n",
       "    </tr>\n",
       "  </tbody>\n",
       "</table>\n",
       "</div>"
      ],
      "text/plain": [
       "                   variable                               variable_label\n",
       "0        FinanceShareGrowth  Finance employment share change (2001-2011)\n",
       "1    ind2001_Agriculture_sh          Agriculture employment share (2001)\n",
       "2        ind2001_Finance_sh              Finance employment share (2001)\n",
       "3  MigrantOldEUMemberGrowth             EU 15 migrant growth (2001-2011)\n",
       "4                      cc_2                                  country==N9"
      ]
     },
     "execution_count": 136,
     "metadata": {},
     "output_type": "execute_result"
    }
   ],
   "source": [
    "df_labels.head()# show labels of variables"
   ]
  },
  {
   "cell_type": "markdown",
   "metadata": {},
   "source": [
    "# Variable selection analysis"
   ]
  },
  {
   "attachments": {},
   "cell_type": "markdown",
   "metadata": {},
   "source": [
    "- Dependent variable(DV): we choose 'Pct_Remain' as our DV as it decide whether remain or leave\n",
    "- Independent variable(IV): we choose 'Region', 'pensionergrowth20012011', 'ResidentAge60plusshare', \n",
    "    'median_hourly_pay2005', 'median_hourly_pay_growth', 'NONEU_2001Migrantshare', 'NONEU_Migrantgrowth', \n",
    "    'unqualifiedsharechange', 'umemployment_rate_aps', 'Total_EconomyEU_dependence', 'TotalImpactFLWAAYR', 'eufundspercapitapayment13'\n",
    "- Four types of IV:\n",
    "    - **EU exposure through immigration**('NONEU_2001Migrantshare', 'NONEU_Migrantgrowth'), **trade and structural funds**('eufundspercapitapayment13');\n",
    "    - **Fiscal consolidation**('TotalImpactFLWAAYR');\n",
    "    - **demography**('Region', 'pensionergrowth20012011', 'ResidentAge60plusshare', 'unqualifiedsharechange');\n",
    "    - **economic structure**('Total_EconomyEU_dependence'), **wages**('median_hourly_pay2005', 'median_hourly_pay_growth') and **unemployment**('umemployment_rate_aps')."
   ]
  },
  {
   "cell_type": "code",
   "execution_count": 16,
   "metadata": {},
   "outputs": [],
   "source": [
    "IVs = ['Region', 'pensionergrowth20012011', 'ResidentAge60plusshare', 'median_hourly_pay2005', 'median_hourly_pay_growth', 'NONEU_2001Migrantshare', 'NONEU_Migrantgrowth', 'unqualifiedsharechange', 'umemployment_rate_aps', 'Total_EconomyEU_dependence', 'TotalImpactFLWAAYR', 'eufundspercapitapayment13']"
   ]
  },
  {
   "cell_type": "code",
   "execution_count": 12,
   "metadata": {},
   "outputs": [],
   "source": [
    "df1 = pd.read_stata(\"referendum data.dta\")\n",
    "\n",
    "df1 = df1.set_index(\"id\")"
   ]
  },
  {
   "cell_type": "code",
   "execution_count": 13,
   "metadata": {},
   "outputs": [
    {
     "data": {
      "text/plain": [
       "(382, 109)"
      ]
     },
     "execution_count": 13,
     "metadata": {},
     "output_type": "execute_result"
    }
   ],
   "source": [
    "df1.shape"
   ]
  },
  {
   "cell_type": "code",
   "execution_count": 28,
   "metadata": {},
   "outputs": [],
   "source": [
    "drop_list = list(set(var) - set(IVs) - {\"id\"} - {\"Pct_Remain\"})"
   ]
  },
  {
   "cell_type": "code",
   "execution_count": 29,
   "metadata": {},
   "outputs": [],
   "source": [
    "df = df1.drop(drop_list, axis = 1)"
   ]
  },
  {
   "cell_type": "code",
   "execution_count": 32,
   "metadata": {},
   "outputs": [
    {
     "data": {
      "text/html": [
       "<div>\n",
       "<style scoped>\n",
       "    .dataframe tbody tr th:only-of-type {\n",
       "        vertical-align: middle;\n",
       "    }\n",
       "\n",
       "    .dataframe tbody tr th {\n",
       "        vertical-align: top;\n",
       "    }\n",
       "\n",
       "    .dataframe thead th {\n",
       "        text-align: right;\n",
       "    }\n",
       "</style>\n",
       "<table border=\"1\" class=\"dataframe\">\n",
       "  <thead>\n",
       "    <tr style=\"text-align: right;\">\n",
       "      <th></th>\n",
       "      <th>Pct_Remain</th>\n",
       "      <th>pensionergrowth20012011</th>\n",
       "      <th>ResidentAge60plusshare</th>\n",
       "      <th>median_hourly_pay2005</th>\n",
       "      <th>median_hourly_pay_growth</th>\n",
       "      <th>NONEU_2001Migrantshare</th>\n",
       "      <th>NONEU_Migrantgrowth</th>\n",
       "      <th>unqualifiedsharechange</th>\n",
       "      <th>umemployment_rate_aps</th>\n",
       "      <th>Total_EconomyEU_dependence</th>\n",
       "      <th>TotalImpactFLWAAYR</th>\n",
       "      <th>eufundspercapitapayment13</th>\n",
       "    </tr>\n",
       "  </thead>\n",
       "  <tbody>\n",
       "    <tr>\n",
       "      <th>count</th>\n",
       "      <td>367.000000</td>\n",
       "      <td>367.000000</td>\n",
       "      <td>367.000000</td>\n",
       "      <td>367.000000</td>\n",
       "      <td>367.000000</td>\n",
       "      <td>367.000000</td>\n",
       "      <td>367.000000</td>\n",
       "      <td>367.000000</td>\n",
       "      <td>367.000000</td>\n",
       "      <td>367.000000</td>\n",
       "      <td>367.000000</td>\n",
       "      <td>367.000000</td>\n",
       "    </tr>\n",
       "    <tr>\n",
       "      <th>mean</th>\n",
       "      <td>46.966158</td>\n",
       "      <td>0.180561</td>\n",
       "      <td>0.214466</td>\n",
       "      <td>10.995967</td>\n",
       "      <td>0.235171</td>\n",
       "      <td>0.052506</td>\n",
       "      <td>0.023394</td>\n",
       "      <td>0.021195</td>\n",
       "      <td>5.262125</td>\n",
       "      <td>0.097106</td>\n",
       "      <td>448.651226</td>\n",
       "      <td>46.990948</td>\n",
       "    </tr>\n",
       "    <tr>\n",
       "      <th>std</th>\n",
       "      <td>10.246911</td>\n",
       "      <td>0.101058</td>\n",
       "      <td>0.036268</td>\n",
       "      <td>1.921793</td>\n",
       "      <td>0.085651</td>\n",
       "      <td>0.063465</td>\n",
       "      <td>0.029655</td>\n",
       "      <td>0.029419</td>\n",
       "      <td>2.107820</td>\n",
       "      <td>0.031786</td>\n",
       "      <td>121.909661</td>\n",
       "      <td>96.702225</td>\n",
       "    </tr>\n",
       "    <tr>\n",
       "      <th>min</th>\n",
       "      <td>27.300000</td>\n",
       "      <td>-0.137270</td>\n",
       "      <td>0.122608</td>\n",
       "      <td>7.680000</td>\n",
       "      <td>-0.091790</td>\n",
       "      <td>0.006623</td>\n",
       "      <td>-0.021239</td>\n",
       "      <td>-0.042495</td>\n",
       "      <td>1.600000</td>\n",
       "      <td>0.033000</td>\n",
       "      <td>241.000000</td>\n",
       "      <td>0.991317</td>\n",
       "    </tr>\n",
       "    <tr>\n",
       "      <th>25%</th>\n",
       "      <td>39.710000</td>\n",
       "      <td>0.115102</td>\n",
       "      <td>0.193885</td>\n",
       "      <td>9.605000</td>\n",
       "      <td>0.177558</td>\n",
       "      <td>0.018816</td>\n",
       "      <td>0.005813</td>\n",
       "      <td>0.002551</td>\n",
       "      <td>3.600000</td>\n",
       "      <td>0.081000</td>\n",
       "      <td>340.000000</td>\n",
       "      <td>8.283566</td>\n",
       "    </tr>\n",
       "    <tr>\n",
       "      <th>50%</th>\n",
       "      <td>45.760000</td>\n",
       "      <td>0.184524</td>\n",
       "      <td>0.211716</td>\n",
       "      <td>10.540000</td>\n",
       "      <td>0.233240</td>\n",
       "      <td>0.031101</td>\n",
       "      <td>0.011511</td>\n",
       "      <td>0.017860</td>\n",
       "      <td>4.900000</td>\n",
       "      <td>0.095000</td>\n",
       "      <td>436.000000</td>\n",
       "      <td>14.442414</td>\n",
       "    </tr>\n",
       "    <tr>\n",
       "      <th>75%</th>\n",
       "      <td>52.620000</td>\n",
       "      <td>0.253930</td>\n",
       "      <td>0.231754</td>\n",
       "      <td>12.070000</td>\n",
       "      <td>0.288235</td>\n",
       "      <td>0.052781</td>\n",
       "      <td>0.030065</td>\n",
       "      <td>0.035018</td>\n",
       "      <td>6.700000</td>\n",
       "      <td>0.130000</td>\n",
       "      <td>536.500000</td>\n",
       "      <td>38.002274</td>\n",
       "    </tr>\n",
       "    <tr>\n",
       "      <th>max</th>\n",
       "      <td>78.620000</td>\n",
       "      <td>0.439829</td>\n",
       "      <td>0.360392</td>\n",
       "      <td>21.680000</td>\n",
       "      <td>0.661098</td>\n",
       "      <td>0.381620</td>\n",
       "      <td>0.179379</td>\n",
       "      <td>0.146066</td>\n",
       "      <td>12.100000</td>\n",
       "      <td>0.147000</td>\n",
       "      <td>914.000000</td>\n",
       "      <td>829.705139</td>\n",
       "    </tr>\n",
       "  </tbody>\n",
       "</table>\n",
       "</div>"
      ],
      "text/plain": [
       "       Pct_Remain  pensionergrowth20012011  ResidentAge60plusshare  \\\n",
       "count  367.000000               367.000000              367.000000   \n",
       "mean    46.966158                 0.180561                0.214466   \n",
       "std     10.246911                 0.101058                0.036268   \n",
       "min     27.300000                -0.137270                0.122608   \n",
       "25%     39.710000                 0.115102                0.193885   \n",
       "50%     45.760000                 0.184524                0.211716   \n",
       "75%     52.620000                 0.253930                0.231754   \n",
       "max     78.620000                 0.439829                0.360392   \n",
       "\n",
       "       median_hourly_pay2005  median_hourly_pay_growth  \\\n",
       "count             367.000000                367.000000   \n",
       "mean               10.995967                  0.235171   \n",
       "std                 1.921793                  0.085651   \n",
       "min                 7.680000                 -0.091790   \n",
       "25%                 9.605000                  0.177558   \n",
       "50%                10.540000                  0.233240   \n",
       "75%                12.070000                  0.288235   \n",
       "max                21.680000                  0.661098   \n",
       "\n",
       "       NONEU_2001Migrantshare  NONEU_Migrantgrowth  unqualifiedsharechange  \\\n",
       "count              367.000000           367.000000              367.000000   \n",
       "mean                 0.052506             0.023394                0.021195   \n",
       "std                  0.063465             0.029655                0.029419   \n",
       "min                  0.006623            -0.021239               -0.042495   \n",
       "25%                  0.018816             0.005813                0.002551   \n",
       "50%                  0.031101             0.011511                0.017860   \n",
       "75%                  0.052781             0.030065                0.035018   \n",
       "max                  0.381620             0.179379                0.146066   \n",
       "\n",
       "       umemployment_rate_aps  Total_EconomyEU_dependence  TotalImpactFLWAAYR  \\\n",
       "count             367.000000                  367.000000          367.000000   \n",
       "mean                5.262125                    0.097106          448.651226   \n",
       "std                 2.107820                    0.031786          121.909661   \n",
       "min                 1.600000                    0.033000          241.000000   \n",
       "25%                 3.600000                    0.081000          340.000000   \n",
       "50%                 4.900000                    0.095000          436.000000   \n",
       "75%                 6.700000                    0.130000          536.500000   \n",
       "max                12.100000                    0.147000          914.000000   \n",
       "\n",
       "       eufundspercapitapayment13  \n",
       "count                 367.000000  \n",
       "mean                   46.990948  \n",
       "std                    96.702225  \n",
       "min                     0.991317  \n",
       "25%                     8.283566  \n",
       "50%                    14.442414  \n",
       "75%                    38.002274  \n",
       "max                   829.705139  "
      ]
     },
     "execution_count": 32,
     "metadata": {},
     "output_type": "execute_result"
    }
   ],
   "source": [
    "df = df.dropna()\n",
    "df.describe()"
   ]
  },
  {
   "cell_type": "code",
   "execution_count": 46,
   "metadata": {},
   "outputs": [
    {
     "data": {
      "text/plain": [
       "(367, 13)"
      ]
     },
     "execution_count": 46,
     "metadata": {},
     "output_type": "execute_result"
    }
   ],
   "source": [
    "df.shape"
   ]
  },
  {
   "cell_type": "markdown",
   "metadata": {},
   "source": [
    "## Encode the region"
   ]
  },
  {
   "cell_type": "code",
   "execution_count": 135,
   "metadata": {},
   "outputs": [
    {
     "name": "stderr",
     "output_type": "stream",
     "text": [
      "/usr/local/lib/python3.5/site-packages/ipykernel_launcher.py:6: SettingWithCopyWarning: \n",
      "A value is trying to be set on a copy of a slice from a DataFrame.\n",
      "Try using .loc[row_indexer,col_indexer] = value instead\n",
      "\n",
      "See the caveats in the documentation: http://pandas.pydata.org/pandas-docs/stable/indexing.html#indexing-view-versus-copy\n",
      "  \n"
     ]
    }
   ],
   "source": [
    "# import warnings\n",
    "# warnings.filterwarnings(\"ignore\",category=DeprecationWarning)\n",
    "\n",
    "# Next, we use LabelEncoder().fit_transform to transform Region into norminal variable\n",
    "from sklearn.preprocessing import LabelEncoder\n",
    "df['Region'] = LabelEncoder().fit_transform(df['Region'])"
   ]
  },
  {
   "cell_type": "code",
   "execution_count": 34,
   "metadata": {},
   "outputs": [
    {
     "data": {
      "text/html": [
       "<div>\n",
       "<style scoped>\n",
       "    .dataframe tbody tr th:only-of-type {\n",
       "        vertical-align: middle;\n",
       "    }\n",
       "\n",
       "    .dataframe tbody tr th {\n",
       "        vertical-align: top;\n",
       "    }\n",
       "\n",
       "    .dataframe thead th {\n",
       "        text-align: right;\n",
       "    }\n",
       "</style>\n",
       "<table border=\"1\" class=\"dataframe\">\n",
       "  <thead>\n",
       "    <tr style=\"text-align: right;\">\n",
       "      <th></th>\n",
       "      <th>Region</th>\n",
       "      <th>Pct_Remain</th>\n",
       "      <th>pensionergrowth20012011</th>\n",
       "      <th>ResidentAge60plusshare</th>\n",
       "      <th>median_hourly_pay2005</th>\n",
       "      <th>median_hourly_pay_growth</th>\n",
       "      <th>NONEU_2001Migrantshare</th>\n",
       "      <th>NONEU_Migrantgrowth</th>\n",
       "      <th>unqualifiedsharechange</th>\n",
       "      <th>umemployment_rate_aps</th>\n",
       "      <th>Total_EconomyEU_dependence</th>\n",
       "      <th>TotalImpactFLWAAYR</th>\n",
       "      <th>eufundspercapitapayment13</th>\n",
       "    </tr>\n",
       "  </thead>\n",
       "  <tbody>\n",
       "    <tr>\n",
       "      <th>count</th>\n",
       "      <td>367.000000</td>\n",
       "      <td>367.000000</td>\n",
       "      <td>367.000000</td>\n",
       "      <td>367.000000</td>\n",
       "      <td>367.000000</td>\n",
       "      <td>367.000000</td>\n",
       "      <td>367.000000</td>\n",
       "      <td>367.000000</td>\n",
       "      <td>367.000000</td>\n",
       "      <td>367.000000</td>\n",
       "      <td>367.000000</td>\n",
       "      <td>367.000000</td>\n",
       "      <td>367.000000</td>\n",
       "    </tr>\n",
       "    <tr>\n",
       "      <th>mean</th>\n",
       "      <td>4.727520</td>\n",
       "      <td>46.966158</td>\n",
       "      <td>0.180561</td>\n",
       "      <td>0.214466</td>\n",
       "      <td>10.995967</td>\n",
       "      <td>0.235171</td>\n",
       "      <td>0.052506</td>\n",
       "      <td>0.023394</td>\n",
       "      <td>0.021195</td>\n",
       "      <td>5.262125</td>\n",
       "      <td>0.097106</td>\n",
       "      <td>448.651226</td>\n",
       "      <td>46.990948</td>\n",
       "    </tr>\n",
       "    <tr>\n",
       "      <th>std</th>\n",
       "      <td>3.073219</td>\n",
       "      <td>10.246911</td>\n",
       "      <td>0.101058</td>\n",
       "      <td>0.036268</td>\n",
       "      <td>1.921793</td>\n",
       "      <td>0.085651</td>\n",
       "      <td>0.063465</td>\n",
       "      <td>0.029655</td>\n",
       "      <td>0.029419</td>\n",
       "      <td>2.107820</td>\n",
       "      <td>0.031786</td>\n",
       "      <td>121.909661</td>\n",
       "      <td>96.702225</td>\n",
       "    </tr>\n",
       "    <tr>\n",
       "      <th>min</th>\n",
       "      <td>0.000000</td>\n",
       "      <td>27.300000</td>\n",
       "      <td>-0.137270</td>\n",
       "      <td>0.122608</td>\n",
       "      <td>7.680000</td>\n",
       "      <td>-0.091790</td>\n",
       "      <td>0.006623</td>\n",
       "      <td>-0.021239</td>\n",
       "      <td>-0.042495</td>\n",
       "      <td>1.600000</td>\n",
       "      <td>0.033000</td>\n",
       "      <td>241.000000</td>\n",
       "      <td>0.991317</td>\n",
       "    </tr>\n",
       "    <tr>\n",
       "      <th>25%</th>\n",
       "      <td>2.000000</td>\n",
       "      <td>39.710000</td>\n",
       "      <td>0.115102</td>\n",
       "      <td>0.193885</td>\n",
       "      <td>9.605000</td>\n",
       "      <td>0.177558</td>\n",
       "      <td>0.018816</td>\n",
       "      <td>0.005813</td>\n",
       "      <td>0.002551</td>\n",
       "      <td>3.600000</td>\n",
       "      <td>0.081000</td>\n",
       "      <td>340.000000</td>\n",
       "      <td>8.283566</td>\n",
       "    </tr>\n",
       "    <tr>\n",
       "      <th>50%</th>\n",
       "      <td>5.000000</td>\n",
       "      <td>45.760000</td>\n",
       "      <td>0.184524</td>\n",
       "      <td>0.211716</td>\n",
       "      <td>10.540000</td>\n",
       "      <td>0.233240</td>\n",
       "      <td>0.031101</td>\n",
       "      <td>0.011511</td>\n",
       "      <td>0.017860</td>\n",
       "      <td>4.900000</td>\n",
       "      <td>0.095000</td>\n",
       "      <td>436.000000</td>\n",
       "      <td>14.442414</td>\n",
       "    </tr>\n",
       "    <tr>\n",
       "      <th>75%</th>\n",
       "      <td>7.000000</td>\n",
       "      <td>52.620000</td>\n",
       "      <td>0.253930</td>\n",
       "      <td>0.231754</td>\n",
       "      <td>12.070000</td>\n",
       "      <td>0.288235</td>\n",
       "      <td>0.052781</td>\n",
       "      <td>0.030065</td>\n",
       "      <td>0.035018</td>\n",
       "      <td>6.700000</td>\n",
       "      <td>0.130000</td>\n",
       "      <td>536.500000</td>\n",
       "      <td>38.002274</td>\n",
       "    </tr>\n",
       "    <tr>\n",
       "      <th>max</th>\n",
       "      <td>10.000000</td>\n",
       "      <td>78.620000</td>\n",
       "      <td>0.439829</td>\n",
       "      <td>0.360392</td>\n",
       "      <td>21.680000</td>\n",
       "      <td>0.661098</td>\n",
       "      <td>0.381620</td>\n",
       "      <td>0.179379</td>\n",
       "      <td>0.146066</td>\n",
       "      <td>12.100000</td>\n",
       "      <td>0.147000</td>\n",
       "      <td>914.000000</td>\n",
       "      <td>829.705139</td>\n",
       "    </tr>\n",
       "  </tbody>\n",
       "</table>\n",
       "</div>"
      ],
      "text/plain": [
       "           Region  Pct_Remain  pensionergrowth20012011  \\\n",
       "count  367.000000  367.000000               367.000000   \n",
       "mean     4.727520   46.966158                 0.180561   \n",
       "std      3.073219   10.246911                 0.101058   \n",
       "min      0.000000   27.300000                -0.137270   \n",
       "25%      2.000000   39.710000                 0.115102   \n",
       "50%      5.000000   45.760000                 0.184524   \n",
       "75%      7.000000   52.620000                 0.253930   \n",
       "max     10.000000   78.620000                 0.439829   \n",
       "\n",
       "       ResidentAge60plusshare  median_hourly_pay2005  \\\n",
       "count              367.000000             367.000000   \n",
       "mean                 0.214466              10.995967   \n",
       "std                  0.036268               1.921793   \n",
       "min                  0.122608               7.680000   \n",
       "25%                  0.193885               9.605000   \n",
       "50%                  0.211716              10.540000   \n",
       "75%                  0.231754              12.070000   \n",
       "max                  0.360392              21.680000   \n",
       "\n",
       "       median_hourly_pay_growth  NONEU_2001Migrantshare  NONEU_Migrantgrowth  \\\n",
       "count                367.000000              367.000000           367.000000   \n",
       "mean                   0.235171                0.052506             0.023394   \n",
       "std                    0.085651                0.063465             0.029655   \n",
       "min                   -0.091790                0.006623            -0.021239   \n",
       "25%                    0.177558                0.018816             0.005813   \n",
       "50%                    0.233240                0.031101             0.011511   \n",
       "75%                    0.288235                0.052781             0.030065   \n",
       "max                    0.661098                0.381620             0.179379   \n",
       "\n",
       "       unqualifiedsharechange  umemployment_rate_aps  \\\n",
       "count              367.000000             367.000000   \n",
       "mean                 0.021195               5.262125   \n",
       "std                  0.029419               2.107820   \n",
       "min                 -0.042495               1.600000   \n",
       "25%                  0.002551               3.600000   \n",
       "50%                  0.017860               4.900000   \n",
       "75%                  0.035018               6.700000   \n",
       "max                  0.146066              12.100000   \n",
       "\n",
       "       Total_EconomyEU_dependence  TotalImpactFLWAAYR  \\\n",
       "count                  367.000000          367.000000   \n",
       "mean                     0.097106          448.651226   \n",
       "std                      0.031786          121.909661   \n",
       "min                      0.033000          241.000000   \n",
       "25%                      0.081000          340.000000   \n",
       "50%                      0.095000          436.000000   \n",
       "75%                      0.130000          536.500000   \n",
       "max                      0.147000          914.000000   \n",
       "\n",
       "       eufundspercapitapayment13  \n",
       "count                 367.000000  \n",
       "mean                   46.990948  \n",
       "std                    96.702225  \n",
       "min                     0.991317  \n",
       "25%                     8.283566  \n",
       "50%                    14.442414  \n",
       "75%                    38.002274  \n",
       "max                   829.705139  "
      ]
     },
     "execution_count": 34,
     "metadata": {},
     "output_type": "execute_result"
    }
   ],
   "source": [
    "df.describe()"
   ]
  },
  {
   "cell_type": "code",
   "execution_count": 88,
   "metadata": {},
   "outputs": [],
   "source": [
    "Y = pd.DataFrame(df['Pct_Remain'])\n",
    "x = df.drop('Pct_Remain', axis = 1)"
   ]
  },
  {
   "cell_type": "code",
   "execution_count": 37,
   "metadata": {},
   "outputs": [
    {
     "data": {
      "text/html": [
       "<div>\n",
       "<style scoped>\n",
       "    .dataframe tbody tr th:only-of-type {\n",
       "        vertical-align: middle;\n",
       "    }\n",
       "\n",
       "    .dataframe tbody tr th {\n",
       "        vertical-align: top;\n",
       "    }\n",
       "\n",
       "    .dataframe thead th {\n",
       "        text-align: right;\n",
       "    }\n",
       "</style>\n",
       "<table border=\"1\" class=\"dataframe\">\n",
       "  <thead>\n",
       "    <tr style=\"text-align: right;\">\n",
       "      <th></th>\n",
       "      <th>Region</th>\n",
       "      <th>pensionergrowth20012011</th>\n",
       "      <th>ResidentAge60plusshare</th>\n",
       "      <th>median_hourly_pay2005</th>\n",
       "      <th>median_hourly_pay_growth</th>\n",
       "      <th>NONEU_2001Migrantshare</th>\n",
       "      <th>NONEU_Migrantgrowth</th>\n",
       "      <th>unqualifiedsharechange</th>\n",
       "      <th>umemployment_rate_aps</th>\n",
       "      <th>Total_EconomyEU_dependence</th>\n",
       "      <th>TotalImpactFLWAAYR</th>\n",
       "      <th>eufundspercapitapayment13</th>\n",
       "    </tr>\n",
       "    <tr>\n",
       "      <th>id</th>\n",
       "      <th></th>\n",
       "      <th></th>\n",
       "      <th></th>\n",
       "      <th></th>\n",
       "      <th></th>\n",
       "      <th></th>\n",
       "      <th></th>\n",
       "      <th></th>\n",
       "      <th></th>\n",
       "      <th></th>\n",
       "      <th></th>\n",
       "      <th></th>\n",
       "    </tr>\n",
       "  </thead>\n",
       "  <tbody>\n",
       "    <tr>\n",
       "      <th>70.0</th>\n",
       "      <td>3</td>\n",
       "      <td>0.125610</td>\n",
       "      <td>0.214906</td>\n",
       "      <td>9.27</td>\n",
       "      <td>0.341963</td>\n",
       "      <td>0.011940</td>\n",
       "      <td>0.005496</td>\n",
       "      <td>-0.004097</td>\n",
       "      <td>10.1</td>\n",
       "      <td>0.088</td>\n",
       "      <td>712.0</td>\n",
       "      <td>84.278999</td>\n",
       "    </tr>\n",
       "    <tr>\n",
       "      <th>71.0</th>\n",
       "      <td>3</td>\n",
       "      <td>0.067761</td>\n",
       "      <td>0.195996</td>\n",
       "      <td>8.58</td>\n",
       "      <td>0.377622</td>\n",
       "      <td>0.032650</td>\n",
       "      <td>0.030981</td>\n",
       "      <td>0.015263</td>\n",
       "      <td>12.1</td>\n",
       "      <td>0.088</td>\n",
       "      <td>717.0</td>\n",
       "      <td>68.096825</td>\n",
       "    </tr>\n",
       "    <tr>\n",
       "      <th>72.0</th>\n",
       "      <td>3</td>\n",
       "      <td>0.143282</td>\n",
       "      <td>0.224830</td>\n",
       "      <td>10.77</td>\n",
       "      <td>0.159703</td>\n",
       "      <td>0.012858</td>\n",
       "      <td>-0.001488</td>\n",
       "      <td>-0.022780</td>\n",
       "      <td>8.3</td>\n",
       "      <td>0.088</td>\n",
       "      <td>618.0</td>\n",
       "      <td>68.096825</td>\n",
       "    </tr>\n",
       "    <tr>\n",
       "      <th>73.0</th>\n",
       "      <td>3</td>\n",
       "      <td>0.182932</td>\n",
       "      <td>0.197110</td>\n",
       "      <td>10.60</td>\n",
       "      <td>0.194340</td>\n",
       "      <td>0.021843</td>\n",
       "      <td>0.013794</td>\n",
       "      <td>0.000170</td>\n",
       "      <td>6.8</td>\n",
       "      <td>0.088</td>\n",
       "      <td>538.0</td>\n",
       "      <td>84.278999</td>\n",
       "    </tr>\n",
       "    <tr>\n",
       "      <th>74.0</th>\n",
       "      <td>3</td>\n",
       "      <td>0.153059</td>\n",
       "      <td>0.222705</td>\n",
       "      <td>9.05</td>\n",
       "      <td>0.353591</td>\n",
       "      <td>0.020575</td>\n",
       "      <td>0.007962</td>\n",
       "      <td>0.018478</td>\n",
       "      <td>6.6</td>\n",
       "      <td>0.088</td>\n",
       "      <td>546.0</td>\n",
       "      <td>99.542854</td>\n",
       "    </tr>\n",
       "  </tbody>\n",
       "</table>\n",
       "</div>"
      ],
      "text/plain": [
       "      Region  pensionergrowth20012011  ResidentAge60plusshare  \\\n",
       "id                                                              \n",
       "70.0       3                 0.125610                0.214906   \n",
       "71.0       3                 0.067761                0.195996   \n",
       "72.0       3                 0.143282                0.224830   \n",
       "73.0       3                 0.182932                0.197110   \n",
       "74.0       3                 0.153059                0.222705   \n",
       "\n",
       "      median_hourly_pay2005  median_hourly_pay_growth  NONEU_2001Migrantshare  \\\n",
       "id                                                                              \n",
       "70.0                   9.27                  0.341963                0.011940   \n",
       "71.0                   8.58                  0.377622                0.032650   \n",
       "72.0                  10.77                  0.159703                0.012858   \n",
       "73.0                  10.60                  0.194340                0.021843   \n",
       "74.0                   9.05                  0.353591                0.020575   \n",
       "\n",
       "      NONEU_Migrantgrowth  unqualifiedsharechange  umemployment_rate_aps  \\\n",
       "id                                                                         \n",
       "70.0             0.005496               -0.004097                   10.1   \n",
       "71.0             0.030981                0.015263                   12.1   \n",
       "72.0            -0.001488               -0.022780                    8.3   \n",
       "73.0             0.013794                0.000170                    6.8   \n",
       "74.0             0.007962                0.018478                    6.6   \n",
       "\n",
       "      Total_EconomyEU_dependence  TotalImpactFLWAAYR  \\\n",
       "id                                                     \n",
       "70.0                       0.088               712.0   \n",
       "71.0                       0.088               717.0   \n",
       "72.0                       0.088               618.0   \n",
       "73.0                       0.088               538.0   \n",
       "74.0                       0.088               546.0   \n",
       "\n",
       "      eufundspercapitapayment13  \n",
       "id                               \n",
       "70.0                  84.278999  \n",
       "71.0                  68.096825  \n",
       "72.0                  68.096825  \n",
       "73.0                  84.278999  \n",
       "74.0                  99.542854  "
      ]
     },
     "execution_count": 37,
     "metadata": {},
     "output_type": "execute_result"
    }
   ],
   "source": [
    "x.head()"
   ]
  },
  {
   "cell_type": "markdown",
   "metadata": {},
   "source": [
    "## Standardise the X - varibales"
   ]
  },
  {
   "cell_type": "code",
   "execution_count": 38,
   "metadata": {},
   "outputs": [
    {
     "name": "stderr",
     "output_type": "stream",
     "text": [
      "/usr/local/lib/python3.5/site-packages/sklearn/preprocessing/data.py:645: DataConversionWarning: Data with input dtype float32, int64, float64 were all converted to float64 by StandardScaler.\n",
      "  return self.partial_fit(X, y)\n",
      "/usr/local/lib/python3.5/site-packages/ipykernel_launcher.py:4: DataConversionWarning: Data with input dtype float32, int64, float64 were all converted to float64 by StandardScaler.\n",
      "  after removing the cwd from sys.path.\n"
     ]
    }
   ],
   "source": [
    "# We see that magnitude of our variables are different, we need to standardise the X - variables \n",
    "from sklearn.preprocessing import StandardScaler\n",
    "scaler = StandardScaler().fit(x)\n",
    "scaled_x = scaler.transform(x)\n",
    "\n",
    "x_scaled_df = pd.DataFrame({x.columns[i]: scaled_x[:,i] for i in range(12)})"
   ]
  },
  {
   "cell_type": "code",
   "execution_count": 53,
   "metadata": {},
   "outputs": [
    {
     "data": {
      "text/html": [
       "<div>\n",
       "<style scoped>\n",
       "    .dataframe tbody tr th:only-of-type {\n",
       "        vertical-align: middle;\n",
       "    }\n",
       "\n",
       "    .dataframe tbody tr th {\n",
       "        vertical-align: top;\n",
       "    }\n",
       "\n",
       "    .dataframe thead th {\n",
       "        text-align: right;\n",
       "    }\n",
       "</style>\n",
       "<table border=\"1\" class=\"dataframe\">\n",
       "  <thead>\n",
       "    <tr style=\"text-align: right;\">\n",
       "      <th></th>\n",
       "      <th>NONEU_2001Migrantshare</th>\n",
       "      <th>NONEU_Migrantgrowth</th>\n",
       "      <th>Region</th>\n",
       "      <th>ResidentAge60plusshare</th>\n",
       "      <th>TotalImpactFLWAAYR</th>\n",
       "      <th>Total_EconomyEU_dependence</th>\n",
       "      <th>eufundspercapitapayment13</th>\n",
       "      <th>median_hourly_pay2005</th>\n",
       "      <th>median_hourly_pay_growth</th>\n",
       "      <th>pensionergrowth20012011</th>\n",
       "      <th>umemployment_rate_aps</th>\n",
       "      <th>unqualifiedsharechange</th>\n",
       "    </tr>\n",
       "  </thead>\n",
       "  <tbody>\n",
       "    <tr>\n",
       "      <th>0</th>\n",
       "      <td>-0.640064</td>\n",
       "      <td>-0.604355</td>\n",
       "      <td>-0.562888</td>\n",
       "      <td>0.012128</td>\n",
       "      <td>2.163145</td>\n",
       "      <td>-0.286874</td>\n",
       "      <td>0.386123</td>\n",
       "      <td>-0.899329</td>\n",
       "      <td>1.248533</td>\n",
       "      <td>-0.544493</td>\n",
       "      <td>2.298336</td>\n",
       "      <td>-0.860898</td>\n",
       "    </tr>\n",
       "    <tr>\n",
       "      <th>1</th>\n",
       "      <td>-0.313295</td>\n",
       "      <td>0.256225</td>\n",
       "      <td>-0.562888</td>\n",
       "      <td>-0.509981</td>\n",
       "      <td>2.204215</td>\n",
       "      <td>-0.286874</td>\n",
       "      <td>0.218554</td>\n",
       "      <td>-1.258859</td>\n",
       "      <td>1.665432</td>\n",
       "      <td>-1.117712</td>\n",
       "      <td>3.248479</td>\n",
       "      <td>-0.201904</td>\n",
       "    </tr>\n",
       "    <tr>\n",
       "      <th>2</th>\n",
       "      <td>-0.625572</td>\n",
       "      <td>-0.840178</td>\n",
       "      <td>-0.562888</td>\n",
       "      <td>0.286134</td>\n",
       "      <td>1.391030</td>\n",
       "      <td>-0.286874</td>\n",
       "      <td>0.218554</td>\n",
       "      <td>-0.117742</td>\n",
       "      <td>-0.882321</td>\n",
       "      <td>-0.369390</td>\n",
       "      <td>1.443208</td>\n",
       "      <td>-1.496834</td>\n",
       "    </tr>\n",
       "    <tr>\n",
       "      <th>3</th>\n",
       "      <td>-0.483806</td>\n",
       "      <td>-0.324143</td>\n",
       "      <td>-0.562888</td>\n",
       "      <td>-0.479214</td>\n",
       "      <td>0.733910</td>\n",
       "      <td>-0.286874</td>\n",
       "      <td>0.386123</td>\n",
       "      <td>-0.206322</td>\n",
       "      <td>-0.477374</td>\n",
       "      <td>0.023501</td>\n",
       "      <td>0.730600</td>\n",
       "      <td>-0.715658</td>\n",
       "    </tr>\n",
       "    <tr>\n",
       "      <th>4</th>\n",
       "      <td>-0.503819</td>\n",
       "      <td>-0.521078</td>\n",
       "      <td>-0.562888</td>\n",
       "      <td>0.227468</td>\n",
       "      <td>0.799622</td>\n",
       "      <td>-0.286874</td>\n",
       "      <td>0.544182</td>\n",
       "      <td>-1.013962</td>\n",
       "      <td>1.384477</td>\n",
       "      <td>-0.272511</td>\n",
       "      <td>0.635586</td>\n",
       "      <td>-0.092473</td>\n",
       "    </tr>\n",
       "  </tbody>\n",
       "</table>\n",
       "</div>"
      ],
      "text/plain": [
       "   NONEU_2001Migrantshare  NONEU_Migrantgrowth    Region  \\\n",
       "0               -0.640064            -0.604355 -0.562888   \n",
       "1               -0.313295             0.256225 -0.562888   \n",
       "2               -0.625572            -0.840178 -0.562888   \n",
       "3               -0.483806            -0.324143 -0.562888   \n",
       "4               -0.503819            -0.521078 -0.562888   \n",
       "\n",
       "   ResidentAge60plusshare  TotalImpactFLWAAYR  Total_EconomyEU_dependence  \\\n",
       "0                0.012128            2.163145                   -0.286874   \n",
       "1               -0.509981            2.204215                   -0.286874   \n",
       "2                0.286134            1.391030                   -0.286874   \n",
       "3               -0.479214            0.733910                   -0.286874   \n",
       "4                0.227468            0.799622                   -0.286874   \n",
       "\n",
       "   eufundspercapitapayment13  median_hourly_pay2005  median_hourly_pay_growth  \\\n",
       "0                   0.386123              -0.899329                  1.248533   \n",
       "1                   0.218554              -1.258859                  1.665432   \n",
       "2                   0.218554              -0.117742                 -0.882321   \n",
       "3                   0.386123              -0.206322                 -0.477374   \n",
       "4                   0.544182              -1.013962                  1.384477   \n",
       "\n",
       "   pensionergrowth20012011  umemployment_rate_aps  unqualifiedsharechange  \n",
       "0                -0.544493               2.298336               -0.860898  \n",
       "1                -1.117712               3.248479               -0.201904  \n",
       "2                -0.369390               1.443208               -1.496834  \n",
       "3                 0.023501               0.730600               -0.715658  \n",
       "4                -0.272511               0.635586               -0.092473  "
      ]
     },
     "execution_count": 53,
     "metadata": {},
     "output_type": "execute_result"
    }
   ],
   "source": [
    "x_scaled_df.head()"
   ]
  },
  {
   "cell_type": "markdown",
   "metadata": {},
   "source": [
    "## Split data into train set and test set"
   ]
  },
  {
   "cell_type": "code",
   "execution_count": 91,
   "metadata": {},
   "outputs": [
    {
     "name": "stdout",
     "output_type": "stream",
     "text": [
      "(293, 12)\n",
      "(74, 12)\n",
      "(293,)\n",
      "(74,)\n"
     ]
    }
   ],
   "source": [
    "#from sklearn.cross_validation import train_test_split\n",
    "from sklearn.model_selection import train_test_split\n",
    "seed = 2019\n",
    "test_size = 0.20\n",
    "\n",
    "X_train, X_test, Y_train, Y_test = train_test_split(x_scaled_df, y, test_size = test_size, random_state = seed)\n",
    "\n",
    "print(X_train.shape)\n",
    "print(X_test.shape)\n",
    "print(Y_train.shape)\n",
    "print(Y_test.shape)"
   ]
  },
  {
   "cell_type": "markdown",
   "metadata": {},
   "source": [
    "## Train Model"
   ]
  },
  {
   "cell_type": "code",
   "execution_count": 147,
   "metadata": {},
   "outputs": [],
   "source": [
    "# Import a range of sklearn functions\n",
    "from sklearn.model_selection import KFold\n",
    "from sklearn.model_selection import cross_val_score\n",
    "from sklearn.linear_model import LinearRegression, Lasso, LassoCV, RidgeCV, Ridge, ElasticNet\n",
    "from sklearn.ensemble import RandomForestRegressor\n",
    "from sklearn.metrics import mean_squared_error\n",
    "from sklearn.feature_selection import SelectKBest\n",
    "from sklearn.feature_selection import chi2\n",
    "from sklearn.feature_selection import SelectFromModel"
   ]
  },
  {
   "cell_type": "markdown",
   "metadata": {},
   "source": [
    "### Fit an OLS linear model to the x and y"
   ]
  },
  {
   "cell_type": "code",
   "execution_count": 129,
   "metadata": {},
   "outputs": [
    {
     "name": "stdout",
     "output_type": "stream",
     "text": [
      "NONEU_2001Migrantshare        7.047801\n",
      "NONEU_Migrantgrowth          -0.473036\n",
      "Region                        0.642358\n",
      "ResidentAge60plusshare        0.535454\n",
      "TotalImpactFLWAAYR           -3.356162\n",
      "Total_EconomyEU_dependence   -2.773778\n",
      "eufundspercapitapayment13     0.709904\n",
      "median_hourly_pay2005         1.788873\n",
      "median_hourly_pay_growth      1.945477\n",
      "pensionergrowth20012011      -1.524256\n",
      "umemployment_rate_aps        -1.370506\n",
      "unqualifiedsharechange       -3.774775\n",
      "dtype: float64\n"
     ]
    }
   ],
   "source": [
    "#Fit an OLS model to the data\n",
    "reg_OLS = LinearRegression(normalize=True).fit(X_train, Y_train)\n",
    "coef = pd.Series(reg_OLS.coef_, index = x_scaled_df.columns)\n",
    "print(coef)"
   ]
  },
  {
   "cell_type": "markdown",
   "metadata": {},
   "source": [
    "### Fit a Lasso model  - A Regularization Technique\n",
    "Remember you now need to specify alpha the penalty parameter.\n",
    "Try different alpha parameters.\n",
    "What happens to the number of zero coefficients?\n",
    "Retrieve and print the coefficient estimates in each case."
   ]
  },
  {
   "cell_type": "code",
   "execution_count": 64,
   "metadata": {},
   "outputs": [],
   "source": [
    "def Lasso_with_assigned_alpha(alpha=1, index=x_scaled_df.columns):\n",
    "    \"\"\"\n",
    "    Input: appha, number; index, IV names\n",
    "    Output: print coef\n",
    "    \"\"\"\n",
    "    reg1 = Lasso(alpha=alpha).fit(X_train, Y_train)\n",
    "    coef = pd.Series(reg1.coef_, index = index)\n",
    "    print(\"With alpha: {}\\n\".format(alpha)+str(coef)+\"\\n\")"
   ]
  },
  {
   "cell_type": "code",
   "execution_count": 65,
   "metadata": {
    "scrolled": true
   },
   "outputs": [
    {
     "name": "stdout",
     "output_type": "stream",
     "text": [
      "With alpha: 0.01\n",
      "NONEU_2001Migrantshare        6.959904\n",
      "NONEU_Migrantgrowth          -0.452187\n",
      "Region                        0.635867\n",
      "ResidentAge60plusshare        0.503076\n",
      "TotalImpactFLWAAYR           -3.334718\n",
      "Total_EconomyEU_dependence   -2.785799\n",
      "eufundspercapitapayment13     0.689491\n",
      "median_hourly_pay2005         1.782965\n",
      "median_hourly_pay_growth      1.925178\n",
      "pensionergrowth20012011      -1.507837\n",
      "umemployment_rate_aps        -1.354238\n",
      "unqualifiedsharechange       -3.724222\n",
      "dtype: float64\n",
      "\n",
      "With alpha: 0.1\n",
      "NONEU_2001Migrantshare        6.158324\n",
      "NONEU_Migrantgrowth          -0.252487\n",
      "Region                        0.577738\n",
      "ResidentAge60plusshare        0.213824\n",
      "TotalImpactFLWAAYR           -3.133416\n",
      "Total_EconomyEU_dependence   -2.895097\n",
      "eufundspercapitapayment13     0.504896\n",
      "median_hourly_pay2005         1.735072\n",
      "median_hourly_pay_growth      1.743099\n",
      "pensionergrowth20012011      -1.355526\n",
      "umemployment_rate_aps        -1.211112\n",
      "unqualifiedsharechange       -3.269024\n",
      "dtype: float64\n",
      "\n",
      "With alpha: 1\n",
      "NONEU_2001Migrantshare        2.260596\n",
      "NONEU_Migrantgrowth           0.000000\n",
      "Region                        0.000000\n",
      "ResidentAge60plusshare       -0.000000\n",
      "TotalImpactFLWAAYR           -1.239942\n",
      "Total_EconomyEU_dependence   -3.027730\n",
      "eufundspercapitapayment13     0.000000\n",
      "median_hourly_pay2005         1.691912\n",
      "median_hourly_pay_growth      0.206832\n",
      "pensionergrowth20012011      -0.000000\n",
      "umemployment_rate_aps        -0.000000\n",
      "unqualifiedsharechange       -0.000000\n",
      "dtype: float64\n",
      "\n"
     ]
    }
   ],
   "source": [
    "for i in [0.01, 0.1, 1]:\n",
    "    Lasso_with_assigned_alpha(i, x_scaled_df.columns)"
   ]
  },
  {
   "cell_type": "markdown",
   "metadata": {},
   "source": [
    "### Use a bar chart to show the coefficient estimates"
   ]
  },
  {
   "cell_type": "code",
   "execution_count": 68,
   "metadata": {},
   "outputs": [
    {
     "data": {
      "text/plain": [
       "Text(0.5, 1.0, 'Feature importance using Lasso Model (alpha=1)')"
      ]
     },
     "execution_count": 68,
     "metadata": {},
     "output_type": "execute_result"
    },
    {
     "data": {
      "image/png": "[encoded data removed]",
      "text/plain": [
       "<Figure size 576x720 with 1 Axes>"
      ]
     },
     "metadata": {
      "needs_background": "light"
     },
     "output_type": "display_data"
    }
   ],
   "source": [
    "%matplotlib inline\n",
    "import matplotlib.pyplot as plt\n",
    "imp_coef = coef.sort_values()\n",
    "plt.rcParams['figure.figsize'] = (8.0, 10.0)\n",
    "imp_coef.plot(kind = \"barh\")\n",
    "plt.title(\"Feature importance using Lasso Model (alpha=1)\")"
   ]
  },
  {
   "cell_type": "markdown",
   "metadata": {},
   "source": [
    "LassoCV can be used to iteratively fit the alpha parameter. Try running this now and printing out the coeffs"
   ]
  },
  {
   "cell_type": "code",
   "execution_count": 140,
   "metadata": {},
   "outputs": [
    {
     "name": "stdout",
     "output_type": "stream",
     "text": [
      "Best alpha using built-in LassoCV: 0.006655\n",
      "Best score using built-in LassoCV: 0.563326\n",
      "NONEU_2001Migrantshare        6.002877\n",
      "NONEU_Migrantgrowth          -0.202225\n",
      "Region                        0.568832\n",
      "ResidentAge60plusshare        0.166447\n",
      "TotalImpactFLWAAYR           -3.092683\n",
      "Total_EconomyEU_dependence   -2.908242\n",
      "eufundspercapitapayment13     0.490290\n",
      "median_hourly_pay2005         1.745037\n",
      "median_hourly_pay_growth      1.722847\n",
      "pensionergrowth20012011      -1.323900\n",
      "umemployment_rate_aps        -1.188859\n",
      "unqualifiedsharechange       -3.182339\n",
      "dtype: float64\n"
     ]
    },
    {
     "name": "stderr",
     "output_type": "stream",
     "text": [
      "/usr/local/lib/python3.5/site-packages/sklearn/model_selection/_split.py:2053: FutureWarning: You should specify a value for 'cv' instead of relying on the default value. The default value will change from 3 to 5 in version 0.22.\n",
      "  warnings.warn(CV_WARNING, FutureWarning)\n"
     ]
    }
   ],
   "source": [
    "reg_LassoCV = LassoCV(normalize=True)\n",
    "reg_LassoCV.fit(X_train,Y_train)\n",
    "\n",
    "print(\"Best alpha using built-in LassoCV: %f\" % reg_LassoCV.alpha_)\n",
    "print(\"Best score using built-in LassoCV: %f\" %reg_LassoCV.score(X_train,Y_train))\n",
    "coef = pd.Series(reg_LassoCV.coef_, index = x_scaled_df.columns)\n",
    "print(coef)"
   ]
  },
  {
   "cell_type": "code",
   "execution_count": 74,
   "metadata": {},
   "outputs": [
    {
     "data": {
      "text/plain": [
       "Text(0.5, 1.0, 'Feature importance using Lasso Model')"
      ]
     },
     "execution_count": 74,
     "metadata": {},
     "output_type": "execute_result"
    },
    {
     "data": {
      "image/png": "[encoded data removed]",
      "text/plain": [
       "<Figure size 576x720 with 1 Axes>"
      ]
     },
     "metadata": {
      "needs_background": "light"
     },
     "output_type": "display_data"
    }
   ],
   "source": [
    "imp_coef = coef.sort_values()\n",
    "plt.rcParams['figure.figsize'] = (8.0, 10.0)\n",
    "imp_coef.plot(kind = \"barh\")\n",
    "plt.title(\"Feature importance using Lasso Model\")"
   ]
  },
  {
   "cell_type": "markdown",
   "metadata": {},
   "source": [
    "# View accuracy of the model"
   ]
  },
  {
   "cell_type": "code",
   "execution_count": 114,
   "metadata": {},
   "outputs": [],
   "source": [
    "from sklearn.metrics import *\n",
    "def predict( model, X_test = X_test, Y_test = Y_test):\n",
    "    \"\"\"\n",
    "    Input: trained model, test_IVs(X) and test_DV(Y)\n",
    "    Output: accuracy of the model\n",
    "    \"\"\"\n",
    "    Y_test_0_1 = [0 if i<50 else 1 for i in Y_test]\n",
    "    y_pred = model.predict(X_test)\n",
    "    predictions = [0 if i<50 else 1 for i in y_pred]\n",
    "    accuracy = accuracy_score(Y_test_0_1, predictions)\n",
    "    confusion_matrix1 = confusion_matrix(Y_test_0_1, predictions)\n",
    "    print(model)\n",
    "    print(\"Confusion matrix:\\n\"+str(confusion_matrix1))\n",
    "    return (\"Accuracy: %.2f%%\" % (accuracy * 100.0))"
   ]
  },
  {
   "cell_type": "code",
   "execution_count": 130,
   "metadata": {},
   "outputs": [
    {
     "name": "stdout",
     "output_type": "stream",
     "text": [
      "LinearRegression(copy_X=True, fit_intercept=True, n_jobs=None, normalize=True)\n",
      "Confusion matrix:\n",
      "[[46  3]\n",
      " [ 5 20]]\n"
     ]
    },
    {
     "data": {
      "text/plain": [
       "'Accuracy: 89.19%'"
      ]
     },
     "execution_count": 130,
     "metadata": {},
     "output_type": "execute_result"
    }
   ],
   "source": [
    "predict(reg_OLS, X_test, Y_test)"
   ]
  },
  {
   "cell_type": "code",
   "execution_count": 132,
   "metadata": {},
   "outputs": [
    {
     "name": "stdout",
     "output_type": "stream",
     "text": [
      "LassoCV(alphas=None, copy_X=True, cv='warn', eps=0.001, fit_intercept=True,\n",
      "    max_iter=1000, n_alphas=100, n_jobs=None, normalize=True,\n",
      "    positive=False, precompute='auto', random_state=None,\n",
      "    selection='cyclic', tol=0.0001, verbose=False)\n",
      "Confusion matrix:\n",
      "[[46  3]\n",
      " [ 5 20]]\n"
     ]
    },
    {
     "data": {
      "text/plain": [
       "'Accuracy: 89.19%'"
      ]
     },
     "execution_count": 132,
     "metadata": {},
     "output_type": "execute_result"
    }
   ],
   "source": [
    "predict(reg_LassoCV, X_test, Y_test)"
   ]
  },
  {
   "cell_type": "markdown",
   "metadata": {},
   "source": [
    "> We can see that regularized OLS gives same result as OLS model, mainly because we selecte 12 IVs (far more less than 367 observations) by observation or experience. Thus, the train model doesn't meet the overfitting problem."
   ]
  },
  {
   "cell_type": "markdown",
   "metadata": {},
   "source": [
    "# What if we choose all variables?"
   ]
  },
  {
   "cell_type": "code",
   "execution_count": 153,
   "metadata": {},
   "outputs": [
    {
     "name": "stderr",
     "output_type": "stream",
     "text": [
      "/usr/local/lib/python3.5/site-packages/sklearn/preprocessing/data.py:645: DataConversionWarning: Data with input dtype int64 were all converted to float64 by StandardScaler.\n",
      "  return self.partial_fit(X, y)\n",
      "/usr/local/lib/python3.5/site-packages/ipykernel_launcher.py:8: DataConversionWarning: Data with input dtype int64 were all converted to float64 by StandardScaler.\n",
      "  \n"
     ]
    }
   ],
   "source": [
    "df1_all = df1.dropna()\n",
    "Y_all = df1_all[\"Pct_Remain\"]\n",
    "X_all = df1_all.drop(\"Pct_Remain\", axis = 1)\n",
    "for i in X_all.columns:\n",
    "    X_all[i] = LabelEncoder().fit_transform(X_all[i])#Label Encoder\n",
    "\n",
    "scaler = StandardScaler().fit(X_all)\n",
    "scaled_x = scaler.transform(X_all)\n",
    "x_all_scaled_df = pd.DataFrame({X_all.columns[i]: scaled_x[:,i] for i in range(len(X_all.columns))})#standardise X\n",
    "\n",
    "seed = 2019\n",
    "test_size = 0.20\n",
    "X_train_all, X_test_all, Y_train_all, Y_test_all = train_test_split(x_all_scaled_df, Y_all, test_size = test_size, random_state = seed)"
   ]
  },
  {
   "cell_type": "code",
   "execution_count": 154,
   "metadata": {},
   "outputs": [
    {
     "name": "stdout",
     "output_type": "stream",
     "text": [
      "(140, 108)\n",
      "(36, 108)\n",
      "(140,)\n",
      "(36,)\n"
     ]
    }
   ],
   "source": [
    "print(X_train_all.shape)\n",
    "print(X_test_all.shape)\n",
    "print(Y_train_all.shape)\n",
    "print(Y_test_all.shape)"
   ]
  },
  {
   "cell_type": "code",
   "execution_count": 155,
   "metadata": {},
   "outputs": [
    {
     "name": "stderr",
     "output_type": "stream",
     "text": [
      "/usr/local/lib/python3.5/site-packages/sklearn/model_selection/_split.py:2053: FutureWarning: You should specify a value for 'cv' instead of relying on the default value. The default value will change from 3 to 5 in version 0.22.\n",
      "  warnings.warn(CV_WARNING, FutureWarning)\n"
     ]
    },
    {
     "data": {
      "text/plain": [
       "LassoCV(alphas=None, copy_X=True, cv='warn', eps=0.001, fit_intercept=True,\n",
       "    max_iter=1000, n_alphas=100, n_jobs=None, normalize=True,\n",
       "    positive=False, precompute='auto', random_state=None,\n",
       "    selection='cyclic', tol=0.0001, verbose=False)"
      ]
     },
     "execution_count": 155,
     "metadata": {},
     "output_type": "execute_result"
    }
   ],
   "source": [
    "reg_OLS_all = LinearRegression(normalize=True).fit(X_train_all, Y_train_all)\n",
    "reg_LassoCV_all = LassoCV(normalize=True)\n",
    "reg_LassoCV_all.fit(X_train_all,Y_train_all)"
   ]
  },
  {
   "cell_type": "code",
   "execution_count": 156,
   "metadata": {},
   "outputs": [
    {
     "name": "stdout",
     "output_type": "stream",
     "text": [
      "LinearRegression(copy_X=True, fit_intercept=True, n_jobs=None, normalize=True)\n",
      "Confusion matrix:\n",
      "[[20  4]\n",
      " [ 1 11]]\n"
     ]
    },
    {
     "data": {
      "text/plain": [
       "'Accuracy: 86.11%'"
      ]
     },
     "execution_count": 156,
     "metadata": {},
     "output_type": "execute_result"
    }
   ],
   "source": [
    "predict(reg_OLS_all, X_test_all, Y_test_all)"
   ]
  },
  {
   "cell_type": "code",
   "execution_count": 157,
   "metadata": {},
   "outputs": [
    {
     "name": "stdout",
     "output_type": "stream",
     "text": [
      "LassoCV(alphas=None, copy_X=True, cv='warn', eps=0.001, fit_intercept=True,\n",
      "    max_iter=1000, n_alphas=100, n_jobs=None, normalize=True,\n",
      "    positive=False, precompute='auto', random_state=None,\n",
      "    selection='cyclic', tol=0.0001, verbose=False)\n",
      "Confusion matrix:\n",
      "[[22  2]\n",
      " [ 0 12]]\n"
     ]
    },
    {
     "data": {
      "text/plain": [
       "'Accuracy: 94.44%'"
      ]
     },
     "execution_count": 157,
     "metadata": {},
     "output_type": "execute_result"
    }
   ],
   "source": [
    "predict(reg_LassoCV_all, X_test_all, Y_test_all)"
   ]
  },
  {
   "cell_type": "markdown",
   "metadata": {},
   "source": [
    "> We can see that regularized OLS gives better prediction accuracy than OLS model, mainly because we selecte all 108 IVs (nearly equals 140, the number of train sets). Thus, the trained model meet the overfitting problem, and LASSO solve it well."
   ]
  },
  {
   "cell_type": "markdown",
   "metadata": {},
   "source": [
    "# Let's try more models"
   ]
  },
  {
   "cell_type": "code",
   "execution_count": 161,
   "metadata": {},
   "outputs": [
    {
     "name": "stderr",
     "output_type": "stream",
     "text": [
      "/usr/local/lib/python3.5/site-packages/sklearn/utils/deprecation.py:125: FutureWarning: You are accessing a training score ('train_score'), which will not be available by default any more in 0.21. If you need training scores, please set return_train_score=True\n",
      "  warnings.warn(*warn_args, **warn_kwargs)\n"
     ]
    },
    {
     "name": "stdout",
     "output_type": "stream",
     "text": [
      "0 LinearRegression\n",
      "[  0.60586148  -2.94847835   0.76984429  -0.58722803 -51.49659733\n",
      "  -5.21526895]\n"
     ]
    },
    {
     "name": "stderr",
     "output_type": "stream",
     "text": [
      "/usr/local/lib/python3.5/site-packages/sklearn/utils/deprecation.py:125: FutureWarning: You are accessing a training score ('train_score'), which will not be available by default any more in 0.21. If you need training scores, please set return_train_score=True\n",
      "  warnings.warn(*warn_args, **warn_kwargs)\n",
      "/usr/local/lib/python3.5/site-packages/sklearn/model_selection/_split.py:2053: FutureWarning: You should specify a value for 'cv' instead of relying on the default value. The default value will change from 3 to 5 in version 0.22.\n",
      "  warnings.warn(CV_WARNING, FutureWarning)\n"
     ]
    },
    {
     "name": "stdout",
     "output_type": "stream",
     "text": [
      "1 Lasso\n",
      "[0.94538674 0.96101363 0.94477287 0.93715618 0.95417206 0.92479005]\n"
     ]
    },
    {
     "name": "stderr",
     "output_type": "stream",
     "text": [
      "/usr/local/lib/python3.5/site-packages/sklearn/model_selection/_split.py:2053: FutureWarning: You should specify a value for 'cv' instead of relying on the default value. The default value will change from 3 to 5 in version 0.22.\n",
      "  warnings.warn(CV_WARNING, FutureWarning)\n",
      "/usr/local/lib/python3.5/site-packages/sklearn/model_selection/_split.py:2053: FutureWarning: You should specify a value for 'cv' instead of relying on the default value. The default value will change from 3 to 5 in version 0.22.\n",
      "  warnings.warn(CV_WARNING, FutureWarning)\n",
      "/usr/local/lib/python3.5/site-packages/sklearn/model_selection/_split.py:2053: FutureWarning: You should specify a value for 'cv' instead of relying on the default value. The default value will change from 3 to 5 in version 0.22.\n",
      "  warnings.warn(CV_WARNING, FutureWarning)\n",
      "/usr/local/lib/python3.5/site-packages/sklearn/model_selection/_split.py:2053: FutureWarning: You should specify a value for 'cv' instead of relying on the default value. The default value will change from 3 to 5 in version 0.22.\n",
      "  warnings.warn(CV_WARNING, FutureWarning)\n",
      "/usr/local/lib/python3.5/site-packages/sklearn/model_selection/_split.py:2053: FutureWarning: You should specify a value for 'cv' instead of relying on the default value. The default value will change from 3 to 5 in version 0.22.\n",
      "  warnings.warn(CV_WARNING, FutureWarning)\n",
      "/usr/local/lib/python3.5/site-packages/sklearn/utils/deprecation.py:125: FutureWarning: You are accessing a training score ('train_score'), which will not be available by default any more in 0.21. If you need training scores, please set return_train_score=True\n",
      "  warnings.warn(*warn_args, **warn_kwargs)\n"
     ]
    },
    {
     "name": "stdout",
     "output_type": "stream",
     "text": [
      "2 LassoCV\n",
      "[0.94894893 0.96174355 0.95382157 0.95451822 0.97589139 0.94713203]\n"
     ]
    },
    {
     "name": "stderr",
     "output_type": "stream",
     "text": [
      "/usr/local/lib/python3.5/site-packages/sklearn/utils/deprecation.py:125: FutureWarning: You are accessing a training score ('train_score'), which will not be available by default any more in 0.21. If you need training scores, please set return_train_score=True\n",
      "  warnings.warn(*warn_args, **warn_kwargs)\n"
     ]
    },
    {
     "name": "stdout",
     "output_type": "stream",
     "text": [
      "3 RidgeCV\n",
      "[0.90122927 0.91501896 0.93334728 0.91740094 0.96124478 0.91946573]\n"
     ]
    },
    {
     "name": "stderr",
     "output_type": "stream",
     "text": [
      "/usr/local/lib/python3.5/site-packages/sklearn/utils/deprecation.py:125: FutureWarning: You are accessing a training score ('train_score'), which will not be available by default any more in 0.21. If you need training scores, please set return_train_score=True\n",
      "  warnings.warn(*warn_args, **warn_kwargs)\n"
     ]
    },
    {
     "name": "stdout",
     "output_type": "stream",
     "text": [
      "4 Ridge\n",
      "[0.89699583 0.93911091 0.91866985 0.91740094 0.9523429  0.90225606]\n"
     ]
    },
    {
     "name": "stderr",
     "output_type": "stream",
     "text": [
      "/usr/local/lib/python3.5/site-packages/sklearn/utils/deprecation.py:125: FutureWarning: You are accessing a training score ('train_score'), which will not be available by default any more in 0.21. If you need training scores, please set return_train_score=True\n",
      "  warnings.warn(*warn_args, **warn_kwargs)\n",
      "/usr/local/lib/python3.5/site-packages/sklearn/utils/deprecation.py:125: FutureWarning: You are accessing a training score ('train_score'), which will not be available by default any more in 0.21. If you need training scores, please set return_train_score=True\n",
      "  warnings.warn(*warn_args, **warn_kwargs)\n"
     ]
    },
    {
     "name": "stdout",
     "output_type": "stream",
     "text": [
      "5 ElasticNet\n",
      "[0.87881367 0.89086629 0.94397921 0.92224053 0.93190493 0.92368317]\n",
      "6 DecisionTreeRegressor\n",
      "[0.96986426 0.98264715 0.98554955 0.94664271 0.9884612  0.94923494]\n"
     ]
    },
    {
     "name": "stderr",
     "output_type": "stream",
     "text": [
      "/usr/local/lib/python3.5/site-packages/sklearn/utils/deprecation.py:125: FutureWarning: You are accessing a training score ('train_score'), which will not be available by default any more in 0.21. If you need training scores, please set return_train_score=True\n",
      "  warnings.warn(*warn_args, **warn_kwargs)\n"
     ]
    },
    {
     "name": "stdout",
     "output_type": "stream",
     "text": [
      "7 GradientBoostingRegressor\n",
      "[0.99468407 0.99631698 0.99558705 0.99644403 0.99735572 0.9897049 ]\n"
     ]
    },
    {
     "name": "stderr",
     "output_type": "stream",
     "text": [
      "/usr/local/lib/python3.5/site-packages/sklearn/utils/deprecation.py:125: FutureWarning: You are accessing a training score ('train_score'), which will not be available by default any more in 0.21. If you need training scores, please set return_train_score=True\n",
      "  warnings.warn(*warn_args, **warn_kwargs)\n"
     ]
    },
    {
     "name": "stdout",
     "output_type": "stream",
     "text": [
      "8 MLPRegressor\n",
      "[0.5815555  0.3552558  0.59692541 0.17892085 0.72753285 0.67759471]\n"
     ]
    },
    {
     "name": "stderr",
     "output_type": "stream",
     "text": [
      "/usr/local/lib/python3.5/site-packages/sklearn/utils/deprecation.py:125: FutureWarning: You are accessing a training score ('train_score'), which will not be available by default any more in 0.21. If you need training scores, please set return_train_score=True\n",
      "  warnings.warn(*warn_args, **warn_kwargs)\n",
      "/usr/local/lib/python3.5/site-packages/sklearn/utils/deprecation.py:125: FutureWarning: You are accessing a training score ('train_score'), which will not be available by default any more in 0.21. If you need training scores, please set return_train_score=True\n",
      "  warnings.warn(*warn_args, **warn_kwargs)\n",
      "/usr/local/lib/python3.5/site-packages/sklearn/ensemble/forest.py:246: FutureWarning: The default value of n_estimators will change from 10 in version 0.20 to 100 in 0.22.\n",
      "  \"10 in version 0.20 to 100 in 0.22.\", FutureWarning)\n"
     ]
    },
    {
     "name": "stdout",
     "output_type": "stream",
     "text": [
      "9 AdaBoostRegressor\n",
      "[0.98674887 0.9907229  0.99020066 0.98786683 0.99373593 0.98848129]\n",
      "10 BaggingRegressor\n",
      "[0.9895697  0.98538218 0.98457805 0.97871368 0.98169029 0.98109412]\n"
     ]
    },
    {
     "name": "stderr",
     "output_type": "stream",
     "text": [
      "/usr/local/lib/python3.5/site-packages/sklearn/ensemble/forest.py:246: FutureWarning: The default value of n_estimators will change from 10 in version 0.20 to 100 in 0.22.\n",
      "  \"10 in version 0.20 to 100 in 0.22.\", FutureWarning)\n",
      "/usr/local/lib/python3.5/site-packages/sklearn/ensemble/forest.py:246: FutureWarning: The default value of n_estimators will change from 10 in version 0.20 to 100 in 0.22.\n",
      "  \"10 in version 0.20 to 100 in 0.22.\", FutureWarning)\n",
      "/usr/local/lib/python3.5/site-packages/sklearn/ensemble/forest.py:246: FutureWarning: The default value of n_estimators will change from 10 in version 0.20 to 100 in 0.22.\n",
      "  \"10 in version 0.20 to 100 in 0.22.\", FutureWarning)\n",
      "/usr/local/lib/python3.5/site-packages/sklearn/ensemble/forest.py:246: FutureWarning: The default value of n_estimators will change from 10 in version 0.20 to 100 in 0.22.\n",
      "  \"10 in version 0.20 to 100 in 0.22.\", FutureWarning)\n",
      "/usr/local/lib/python3.5/site-packages/sklearn/ensemble/forest.py:246: FutureWarning: The default value of n_estimators will change from 10 in version 0.20 to 100 in 0.22.\n",
      "  \"10 in version 0.20 to 100 in 0.22.\", FutureWarning)\n",
      "/usr/local/lib/python3.5/site-packages/sklearn/utils/deprecation.py:125: FutureWarning: You are accessing a training score ('train_score'), which will not be available by default any more in 0.21. If you need training scores, please set return_train_score=True\n",
      "  warnings.warn(*warn_args, **warn_kwargs)\n",
      "/usr/local/lib/python3.5/site-packages/sklearn/ensemble/forest.py:246: FutureWarning: The default value of n_estimators will change from 10 in version 0.20 to 100 in 0.22.\n",
      "  \"10 in version 0.20 to 100 in 0.22.\", FutureWarning)\n",
      "/usr/local/lib/python3.5/site-packages/sklearn/ensemble/forest.py:246: FutureWarning: The default value of n_estimators will change from 10 in version 0.20 to 100 in 0.22.\n",
      "  \"10 in version 0.20 to 100 in 0.22.\", FutureWarning)\n"
     ]
    },
    {
     "name": "stdout",
     "output_type": "stream",
     "text": [
      "11 ExtraTreesRegressor\n",
      "[0.97571711 0.97735929 0.97815199 0.95659092 0.9718284  0.94886118]\n",
      "12 RandomForestRegressor\n",
      "[0.98829969 0.98662961 0.96552013 0.97525272 0.99111818 0.98329232]\n"
     ]
    },
    {
     "name": "stderr",
     "output_type": "stream",
     "text": [
      "/usr/local/lib/python3.5/site-packages/sklearn/ensemble/forest.py:246: FutureWarning: The default value of n_estimators will change from 10 in version 0.20 to 100 in 0.22.\n",
      "  \"10 in version 0.20 to 100 in 0.22.\", FutureWarning)\n",
      "/usr/local/lib/python3.5/site-packages/sklearn/ensemble/forest.py:246: FutureWarning: The default value of n_estimators will change from 10 in version 0.20 to 100 in 0.22.\n",
      "  \"10 in version 0.20 to 100 in 0.22.\", FutureWarning)\n",
      "/usr/local/lib/python3.5/site-packages/sklearn/ensemble/forest.py:246: FutureWarning: The default value of n_estimators will change from 10 in version 0.20 to 100 in 0.22.\n",
      "  \"10 in version 0.20 to 100 in 0.22.\", FutureWarning)\n",
      "/usr/local/lib/python3.5/site-packages/sklearn/ensemble/forest.py:246: FutureWarning: The default value of n_estimators will change from 10 in version 0.20 to 100 in 0.22.\n",
      "  \"10 in version 0.20 to 100 in 0.22.\", FutureWarning)\n",
      "/usr/local/lib/python3.5/site-packages/sklearn/utils/deprecation.py:125: FutureWarning: You are accessing a training score ('train_score'), which will not be available by default any more in 0.21. If you need training scores, please set return_train_score=True\n",
      "  warnings.warn(*warn_args, **warn_kwargs)\n"
     ]
    },
    {
     "name": "stdout",
     "output_type": "stream",
     "text": [
      "13 LinearSVR\n",
      "[0.25149092 0.5686581  0.65541335 0.52339509 0.64715327 0.59471965]\n",
      "14 NuSVR\n",
      "[0.20247539 0.29089669 0.31961431 0.30710948 0.30434936 0.31089947]\n",
      "15 SVR\n",
      "[0.36576898 0.34233935 0.36515657 0.38903672 0.349817   0.34495318]\n"
     ]
    },
    {
     "name": "stderr",
     "output_type": "stream",
     "text": [
      "/usr/local/lib/python3.5/site-packages/sklearn/utils/deprecation.py:125: FutureWarning: You are accessing a training score ('train_score'), which will not be available by default any more in 0.21. If you need training scores, please set return_train_score=True\n",
      "  warnings.warn(*warn_args, **warn_kwargs)\n",
      "/usr/local/lib/python3.5/site-packages/sklearn/svm/base.py:196: FutureWarning: The default value of gamma will change from 'auto' to 'scale' in version 0.22 to account better for unscaled features. Set gamma explicitly to 'auto' or 'scale' to avoid this warning.\n",
      "  \"avoid this warning.\", FutureWarning)\n",
      "/usr/local/lib/python3.5/site-packages/sklearn/svm/base.py:196: FutureWarning: The default value of gamma will change from 'auto' to 'scale' in version 0.22 to account better for unscaled features. Set gamma explicitly to 'auto' or 'scale' to avoid this warning.\n",
      "  \"avoid this warning.\", FutureWarning)\n",
      "/usr/local/lib/python3.5/site-packages/sklearn/svm/base.py:196: FutureWarning: The default value of gamma will change from 'auto' to 'scale' in version 0.22 to account better for unscaled features. Set gamma explicitly to 'auto' or 'scale' to avoid this warning.\n",
      "  \"avoid this warning.\", FutureWarning)\n",
      "/usr/local/lib/python3.5/site-packages/sklearn/svm/base.py:196: FutureWarning: The default value of gamma will change from 'auto' to 'scale' in version 0.22 to account better for unscaled features. Set gamma explicitly to 'auto' or 'scale' to avoid this warning.\n",
      "  \"avoid this warning.\", FutureWarning)\n",
      "/usr/local/lib/python3.5/site-packages/sklearn/svm/base.py:196: FutureWarning: The default value of gamma will change from 'auto' to 'scale' in version 0.22 to account better for unscaled features. Set gamma explicitly to 'auto' or 'scale' to avoid this warning.\n",
      "  \"avoid this warning.\", FutureWarning)\n",
      "/usr/local/lib/python3.5/site-packages/sklearn/svm/base.py:196: FutureWarning: The default value of gamma will change from 'auto' to 'scale' in version 0.22 to account better for unscaled features. Set gamma explicitly to 'auto' or 'scale' to avoid this warning.\n",
      "  \"avoid this warning.\", FutureWarning)\n",
      "/usr/local/lib/python3.5/site-packages/sklearn/utils/deprecation.py:125: FutureWarning: You are accessing a training score ('train_score'), which will not be available by default any more in 0.21. If you need training scores, please set return_train_score=True\n",
      "  warnings.warn(*warn_args, **warn_kwargs)\n",
      "/usr/local/lib/python3.5/site-packages/sklearn/svm/base.py:196: FutureWarning: The default value of gamma will change from 'auto' to 'scale' in version 0.22 to account better for unscaled features. Set gamma explicitly to 'auto' or 'scale' to avoid this warning.\n",
      "  \"avoid this warning.\", FutureWarning)\n",
      "/usr/local/lib/python3.5/site-packages/sklearn/svm/base.py:196: FutureWarning: The default value of gamma will change from 'auto' to 'scale' in version 0.22 to account better for unscaled features. Set gamma explicitly to 'auto' or 'scale' to avoid this warning.\n",
      "  \"avoid this warning.\", FutureWarning)\n",
      "/usr/local/lib/python3.5/site-packages/sklearn/svm/base.py:196: FutureWarning: The default value of gamma will change from 'auto' to 'scale' in version 0.22 to account better for unscaled features. Set gamma explicitly to 'auto' or 'scale' to avoid this warning.\n",
      "  \"avoid this warning.\", FutureWarning)\n",
      "/usr/local/lib/python3.5/site-packages/sklearn/svm/base.py:196: FutureWarning: The default value of gamma will change from 'auto' to 'scale' in version 0.22 to account better for unscaled features. Set gamma explicitly to 'auto' or 'scale' to avoid this warning.\n",
      "  \"avoid this warning.\", FutureWarning)\n",
      "/usr/local/lib/python3.5/site-packages/sklearn/svm/base.py:196: FutureWarning: The default value of gamma will change from 'auto' to 'scale' in version 0.22 to account better for unscaled features. Set gamma explicitly to 'auto' or 'scale' to avoid this warning.\n",
      "  \"avoid this warning.\", FutureWarning)\n",
      "/usr/local/lib/python3.5/site-packages/sklearn/svm/base.py:196: FutureWarning: The default value of gamma will change from 'auto' to 'scale' in version 0.22 to account better for unscaled features. Set gamma explicitly to 'auto' or 'scale' to avoid this warning.\n",
      "  \"avoid this warning.\", FutureWarning)\n",
      "/usr/local/lib/python3.5/site-packages/sklearn/utils/deprecation.py:125: FutureWarning: You are accessing a training score ('train_score'), which will not be available by default any more in 0.21. If you need training scores, please set return_train_score=True\n",
      "  warnings.warn(*warn_args, **warn_kwargs)\n"
     ]
    },
    {
     "data": {
      "text/html": [
       "<div>\n",
       "<style scoped>\n",
       "    .dataframe tbody tr th:only-of-type {\n",
       "        vertical-align: middle;\n",
       "    }\n",
       "\n",
       "    .dataframe tbody tr th {\n",
       "        vertical-align: top;\n",
       "    }\n",
       "\n",
       "    .dataframe thead th {\n",
       "        text-align: right;\n",
       "    }\n",
       "</style>\n",
       "<table border=\"1\" class=\"dataframe\">\n",
       "  <thead>\n",
       "    <tr style=\"text-align: right;\">\n",
       "      <th></th>\n",
       "      <th>Name</th>\n",
       "      <th>Parameters</th>\n",
       "      <th>Train Accuracy Mean</th>\n",
       "      <th>Test Accuracy Mean</th>\n",
       "      <th>Test Accuracy Std</th>\n",
       "      <th>Comsumed Time</th>\n",
       "    </tr>\n",
       "  </thead>\n",
       "  <tbody>\n",
       "    <tr>\n",
       "      <th>7</th>\n",
       "      <td>GradientBoostingRegressor</td>\n",
       "      <td>{'init': None, 'validation_fraction': 0.1, 'n_...</td>\n",
       "      <td>1</td>\n",
       "      <td>0.995015</td>\n",
       "      <td>0.00251164</td>\n",
       "      <td>0.104472</td>\n",
       "    </tr>\n",
       "    <tr>\n",
       "      <th>9</th>\n",
       "      <td>AdaBoostRegressor</td>\n",
       "      <td>{'n_estimators': 50, 'learning_rate': 1.0, 'lo...</td>\n",
       "      <td>0.997418</td>\n",
       "      <td>0.989626</td>\n",
       "      <td>0.00227698</td>\n",
       "      <td>0.113758</td>\n",
       "    </tr>\n",
       "    <tr>\n",
       "      <th>10</th>\n",
       "      <td>BaggingRegressor</td>\n",
       "      <td>{'n_estimators': 10, 'n_jobs': None, 'bootstra...</td>\n",
       "      <td>0.997092</td>\n",
       "      <td>0.983505</td>\n",
       "      <td>0.00350043</td>\n",
       "      <td>0.02784</td>\n",
       "    </tr>\n",
       "    <tr>\n",
       "      <th>12</th>\n",
       "      <td>RandomForestRegressor</td>\n",
       "      <td>{'n_jobs': None, 'min_samples_leaf': 1, 'max_d...</td>\n",
       "      <td>0.996549</td>\n",
       "      <td>0.981685</td>\n",
       "      <td>0.00877923</td>\n",
       "      <td>0.027819</td>\n",
       "    </tr>\n",
       "    <tr>\n",
       "      <th>6</th>\n",
       "      <td>DecisionTreeRegressor</td>\n",
       "      <td>{'min_samples_leaf': 1, 'max_depth': None, 'cr...</td>\n",
       "      <td>1</td>\n",
       "      <td>0.9704</td>\n",
       "      <td>0.0169232</td>\n",
       "      <td>0.00652659</td>\n",
       "    </tr>\n",
       "    <tr>\n",
       "      <th>11</th>\n",
       "      <td>ExtraTreesRegressor</td>\n",
       "      <td>{'n_jobs': None, 'min_samples_leaf': 1, 'max_d...</td>\n",
       "      <td>1</td>\n",
       "      <td>0.968085</td>\n",
       "      <td>0.0112642</td>\n",
       "      <td>0.0207053</td>\n",
       "    </tr>\n",
       "    <tr>\n",
       "      <th>2</th>\n",
       "      <td>LassoCV</td>\n",
       "      <td>{'tol': 0.0001, 'fit_intercept': True, 'positi...</td>\n",
       "      <td>0.979741</td>\n",
       "      <td>0.957009</td>\n",
       "      <td>0.0096423</td>\n",
       "      <td>0.29454</td>\n",
       "    </tr>\n",
       "    <tr>\n",
       "      <th>1</th>\n",
       "      <td>Lasso</td>\n",
       "      <td>{'tol': 0.0001, 'fit_intercept': True, 'normal...</td>\n",
       "      <td>0.948198</td>\n",
       "      <td>0.944549</td>\n",
       "      <td>0.0116154</td>\n",
       "      <td>0.00356106</td>\n",
       "    </tr>\n",
       "    <tr>\n",
       "      <th>3</th>\n",
       "      <td>RidgeCV</td>\n",
       "      <td>{'store_cv_values': False, 'gcv_mode': None, '...</td>\n",
       "      <td>0.990371</td>\n",
       "      <td>0.924618</td>\n",
       "      <td>0.0188659</td>\n",
       "      <td>0.164375</td>\n",
       "    </tr>\n",
       "    <tr>\n",
       "      <th>4</th>\n",
       "      <td>Ridge</td>\n",
       "      <td>{'tol': 0.001, 'fit_intercept': True, 'normali...</td>\n",
       "      <td>0.996801</td>\n",
       "      <td>0.921129</td>\n",
       "      <td>0.0193916</td>\n",
       "      <td>0.0678032</td>\n",
       "    </tr>\n",
       "    <tr>\n",
       "      <th>5</th>\n",
       "      <td>ElasticNet</td>\n",
       "      <td>{'tol': 0.0001, 'fit_intercept': True, 'warm_s...</td>\n",
       "      <td>0.944687</td>\n",
       "      <td>0.915248</td>\n",
       "      <td>0.0228944</td>\n",
       "      <td>0.0339867</td>\n",
       "    </tr>\n",
       "    <tr>\n",
       "      <th>13</th>\n",
       "      <td>LinearSVR</td>\n",
       "      <td>{'verbose': 0, 'epsilon': 0.0, 'C': 1.0, 'fit_...</td>\n",
       "      <td>0.954925</td>\n",
       "      <td>0.540138</td>\n",
       "      <td>0.136706</td>\n",
       "      <td>0.0471092</td>\n",
       "    </tr>\n",
       "    <tr>\n",
       "      <th>8</th>\n",
       "      <td>MLPRegressor</td>\n",
       "      <td>{'hidden_layer_sizes': (100,), 'validation_fra...</td>\n",
       "      <td>1</td>\n",
       "      <td>0.519631</td>\n",
       "      <td>0.191958</td>\n",
       "      <td>12.1771</td>\n",
       "    </tr>\n",
       "    <tr>\n",
       "      <th>15</th>\n",
       "      <td>SVR</td>\n",
       "      <td>{'verbose': False, 'epsilon': 0.1, 'C': 1.0, '...</td>\n",
       "      <td>0.458179</td>\n",
       "      <td>0.359512</td>\n",
       "      <td>0.0160394</td>\n",
       "      <td>0.00400547</td>\n",
       "    </tr>\n",
       "    <tr>\n",
       "      <th>14</th>\n",
       "      <td>NuSVR</td>\n",
       "      <td>{'verbose': False, 'nu': 0.5, 'C': 1.0, 'max_i...</td>\n",
       "      <td>0.391258</td>\n",
       "      <td>0.289224</td>\n",
       "      <td>0.0397286</td>\n",
       "      <td>0.0192484</td>\n",
       "    </tr>\n",
       "    <tr>\n",
       "      <th>0</th>\n",
       "      <td>LinearRegression</td>\n",
       "      <td>{'n_jobs': None, 'fit_intercept': True, 'copy_...</td>\n",
       "      <td>1</td>\n",
       "      <td>-9.81198</td>\n",
       "      <td>18.7592</td>\n",
       "      <td>0.0204792</td>\n",
       "    </tr>\n",
       "  </tbody>\n",
       "</table>\n",
       "</div>"
      ],
      "text/plain": [
       "                         Name  \\\n",
       "7   GradientBoostingRegressor   \n",
       "9           AdaBoostRegressor   \n",
       "10           BaggingRegressor   \n",
       "12      RandomForestRegressor   \n",
       "6       DecisionTreeRegressor   \n",
       "11        ExtraTreesRegressor   \n",
       "2                     LassoCV   \n",
       "1                       Lasso   \n",
       "3                     RidgeCV   \n",
       "4                       Ridge   \n",
       "5                  ElasticNet   \n",
       "13                  LinearSVR   \n",
       "8                MLPRegressor   \n",
       "15                        SVR   \n",
       "14                      NuSVR   \n",
       "0            LinearRegression   \n",
       "\n",
       "                                           Parameters Train Accuracy Mean  \\\n",
       "7   {'init': None, 'validation_fraction': 0.1, 'n_...                   1   \n",
       "9   {'n_estimators': 50, 'learning_rate': 1.0, 'lo...            0.997418   \n",
       "10  {'n_estimators': 10, 'n_jobs': None, 'bootstra...            0.997092   \n",
       "12  {'n_jobs': None, 'min_samples_leaf': 1, 'max_d...            0.996549   \n",
       "6   {'min_samples_leaf': 1, 'max_depth': None, 'cr...                   1   \n",
       "11  {'n_jobs': None, 'min_samples_leaf': 1, 'max_d...                   1   \n",
       "2   {'tol': 0.0001, 'fit_intercept': True, 'positi...            0.979741   \n",
       "1   {'tol': 0.0001, 'fit_intercept': True, 'normal...            0.948198   \n",
       "3   {'store_cv_values': False, 'gcv_mode': None, '...            0.990371   \n",
       "4   {'tol': 0.001, 'fit_intercept': True, 'normali...            0.996801   \n",
       "5   {'tol': 0.0001, 'fit_intercept': True, 'warm_s...            0.944687   \n",
       "13  {'verbose': 0, 'epsilon': 0.0, 'C': 1.0, 'fit_...            0.954925   \n",
       "8   {'hidden_layer_sizes': (100,), 'validation_fra...                   1   \n",
       "15  {'verbose': False, 'epsilon': 0.1, 'C': 1.0, '...            0.458179   \n",
       "14  {'verbose': False, 'nu': 0.5, 'C': 1.0, 'max_i...            0.391258   \n",
       "0   {'n_jobs': None, 'fit_intercept': True, 'copy_...                   1   \n",
       "\n",
       "   Test Accuracy Mean Test Accuracy Std Comsumed Time  \n",
       "7            0.995015        0.00251164      0.104472  \n",
       "9            0.989626        0.00227698      0.113758  \n",
       "10           0.983505        0.00350043       0.02784  \n",
       "12           0.981685        0.00877923      0.027819  \n",
       "6              0.9704         0.0169232    0.00652659  \n",
       "11           0.968085         0.0112642     0.0207053  \n",
       "2            0.957009         0.0096423       0.29454  \n",
       "1            0.944549         0.0116154    0.00356106  \n",
       "3            0.924618         0.0188659      0.164375  \n",
       "4            0.921129         0.0193916     0.0678032  \n",
       "5            0.915248         0.0228944     0.0339867  \n",
       "13           0.540138          0.136706     0.0471092  \n",
       "8            0.519631          0.191958       12.1771  \n",
       "15           0.359512         0.0160394    0.00400547  \n",
       "14           0.289224         0.0397286     0.0192484  \n",
       "0            -9.81198           18.7592     0.0204792  "
      ]
     },
     "execution_count": 161,
     "metadata": {},
     "output_type": "execute_result"
    }
   ],
   "source": [
    "from sklearn.model_selection import cross_validate\n",
    "from sklearn.model_selection import ShuffleSplit\n",
    "\n",
    "from sklearn.linear_model import LinearRegression, Lasso, LassoCV, RidgeCV, Ridge, ElasticNet\n",
    "from sklearn.tree import DecisionTreeRegressor\n",
    "from sklearn.ensemble import GradientBoostingRegressor\n",
    "from sklearn.neural_network import MLPRegressor\n",
    "from sklearn.ensemble import AdaBoostRegressor\n",
    "from sklearn.ensemble import BaggingRegressor\n",
    "from sklearn.ensemble import ExtraTreesRegressor\n",
    "from sklearn.ensemble import RandomForestRegressor\n",
    "from sklearn.svm import LinearSVR\n",
    "from sklearn.svm import NuSVR\n",
    "from sklearn.svm import SVR\n",
    "#from xgboost import XGBRegressor\n",
    "\n",
    "\n",
    "estimator_list = [\n",
    "    LinearRegression(),\n",
    "    Lasso(),\n",
    "    LassoCV(),\n",
    "    RidgeCV(),\n",
    "    Ridge(),\n",
    "    ElasticNet(),\n",
    "    DecisionTreeRegressor(),\n",
    "    GradientBoostingRegressor(),\n",
    "    MLPRegressor(solver='lbfgs'),\n",
    "    AdaBoostRegressor(),\n",
    "    BaggingRegressor(),\n",
    "    ExtraTreesRegressor(),\n",
    "    RandomForestRegressor(),\n",
    "    LinearSVR(),\n",
    "    NuSVR(),\n",
    "    SVR()\n",
    "]\n",
    "\n",
    "cv_split = ShuffleSplit(n_splits=6, train_size=0.7, test_size=0.2, random_state=168)\n",
    "df_columns = ['Name', 'Parameters', 'Train Accuracy Mean', 'Test Accuracy Mean', 'Test Accuracy Std', 'Comsumed Time']\n",
    "df = pd.DataFrame(columns=df_columns)\n",
    "\n",
    "row_index = 0\n",
    "for estimator in estimator_list:\n",
    "    df.loc[row_index, 'Name'] = estimator.__class__.__name__\n",
    "    df.loc[row_index, 'Parameters'] = str(estimator.get_params())\n",
    "    cv_results = cross_validate(estimator, X_train_all, Y_train_all, cv=cv_split)\n",
    "    df.loc[row_index, 'Train Accuracy Mean'] = cv_results['train_score'].mean()\n",
    "    df.loc[row_index, 'Test Accuracy Mean'] = cv_results['test_score'].mean()\n",
    "    df.loc[row_index, 'Test Accuracy Std'] = cv_results['test_score'].std()\n",
    "    df.loc[row_index, 'Comsumed Time'] = cv_results['fit_time'].mean()\n",
    "    print(row_index, estimator.__class__.__name__)\n",
    "    print(cv_results['test_score'])\n",
    "    row_index += 1\n",
    "df = df.sort_values(by='Test Accuracy Mean', ascending=False)\n",
    "df"
   ]
  },
  {
   "cell_type": "markdown",
   "metadata": {},
   "source": [
    "> We can see that GradientBoostingRegressor gives the best result, which has 1 in train accuracy mean, while also gives highest score in test accuracy(0.995)."
   ]
  },
  {
   "cell_type": "markdown",
   "metadata": {},
   "source": [
    "Furthermore, we can try XGBoosting model..."
   ]
  }
 ],
 "metadata": {
  "kernelspec": {
   "display_name": "Python 3",
   "language": "python",
   "name": "python3"
  },
  "language_info": {
   "codemirror_mode": {
    "name": "ipython",
    "version": 3
   },
   "file_extension": ".py",
   "mimetype": "text/x-python",
   "name": "python",
   "nbconvert_exporter": "python",
   "pygments_lexer": "ipython3",
   "version": "3.5.7"
  },
  "toc": {
   "base_numbering": 1,
   "nav_menu": {},
   "number_sections": true,
   "sideBar": true,
   "skip_h1_title": false,
   "title_cell": "Table of Contents",
   "title_sidebar": "Contents",
   "toc_cell": true,
   "toc_position": {},
   "toc_section_display": true,
   "toc_window_display": false
  }
 },
 "nbformat": 4,
 "nbformat_minor": 2
}
