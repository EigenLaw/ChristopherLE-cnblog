{
 "cells": [
  {
   "cell_type": "markdown",
   "metadata": {
    "toc": true
   },
   "source": [
    "<h1>Table of Contents<span class=\"tocSkip\"></span></h1>\n",
    "<div class=\"toc\"><ul class=\"toc-item\"><li><span><a href=\"#Jupyter操作\" data-toc-modified-id=\"Jupyter操作-1\"><span class=\"toc-item-num\">1&nbsp;&nbsp;</span>Jupyter操作</a></span></li><li><span><a href=\"#Python语法\" data-toc-modified-id=\"Python语法-2\"><span class=\"toc-item-num\">2&nbsp;&nbsp;</span>Python语法</a></span></li><li><span><a href=\"#数据类型\" data-toc-modified-id=\"数据类型-3\"><span class=\"toc-item-num\">3&nbsp;&nbsp;</span>数据类型</a></span><ul class=\"toc-item\"><li><span><a href=\"#列表\" data-toc-modified-id=\"列表-3.1\"><span class=\"toc-item-num\">3.1&nbsp;&nbsp;</span>列表</a></span></li><li><span><a href=\"#文本\" data-toc-modified-id=\"文本-3.2\"><span class=\"toc-item-num\">3.2&nbsp;&nbsp;</span>文本</a></span></li></ul></li><li><span><a href=\"#循环\" data-toc-modified-id=\"循环-4\"><span class=\"toc-item-num\">4&nbsp;&nbsp;</span>循环</a></span></li><li><span><a href=\"#函数\" data-toc-modified-id=\"函数-5\"><span class=\"toc-item-num\">5&nbsp;&nbsp;</span>函数</a></span></li></ul></div>"
   ]
  },
  {
   "cell_type": "markdown",
   "metadata": {},
   "source": [
    "# Table of Contents\n",
    "1. [Jupyter操作1](#Jupyter操作)\n",
    "\n",
    "3. [函数2](#函数)"
   ]
  },
  {
   "cell_type": "markdown",
   "metadata": {},
   "source": [
    "# Jupyter操作"
   ]
  },
  {
   "cell_type": "markdown",
   "metadata": {},
   "source": [
    "- Markdown书写文本，Script书写代码\n",
    "- 下拉框选择，或者选中格子（之后都是选中格子再操作）后摁m\n",
    "- 一级标题#；二级标题##;以此类推\n",
    "- 往下加一个格子摁b；往上加格子a\n",
    "- 运行可以点击上面的△也可以摁**shift enter**"
   ]
  },
  {
   "cell_type": "code",
   "execution_count": 3,
   "metadata": {},
   "outputs": [
    {
     "name": "stdout",
     "output_type": "stream",
     "text": [
      "2\n"
     ]
    }
   ],
   "source": [
    "print(1+1)\n",
    "a=1"
   ]
  },
  {
   "cell_type": "code",
   "execution_count": 4,
   "metadata": {},
   "outputs": [
    {
     "name": "stdout",
     "output_type": "stream",
     "text": [
      "1\n"
     ]
    }
   ],
   "source": [
    "print(a)"
   ]
  },
  {
   "cell_type": "markdown",
   "metadata": {},
   "source": [
    "> 附注：Jupyter Markdown自带Latex\n",
    "\n",
    "exp:\n",
    "$$ Pr(w_2 | w_1) =  \\frac { Pr(w_1 \\cdot w_2) }{Pr(w_1)} $$ "
   ]
  },
  {
   "cell_type": "markdown",
   "metadata": {},
   "source": [
    "# Python语法"
   ]
  },
  {
   "cell_type": "markdown",
   "metadata": {},
   "source": [
    "- #注释代码，注释书写文本\n",
    "- 某个名字后面或前面加个?可以查看用法"
   ]
  },
  {
   "cell_type": "code",
   "execution_count": 5,
   "metadata": {
    "collapsed": true
   },
   "outputs": [],
   "source": [
    "?print"
   ]
  },
  {
   "cell_type": "code",
   "execution_count": 2,
   "metadata": {},
   "outputs": [
    {
     "name": "stdout",
     "output_type": "stream",
     "text": [
      "2\n"
     ]
    },
    {
     "data": {
      "text/plain": [
       "2"
      ]
     },
     "execution_count": 2,
     "metadata": {},
     "output_type": "execute_result"
    }
   ],
   "source": [
    "# 赋值\n",
    "x1 = 1\n",
    "x2 = 1\n",
    "# print()输出;或者直接不需要print\n",
    "print(x1+x2)\n",
    "x1+x2"
   ]
  },
  {
   "cell_type": "markdown",
   "metadata": {},
   "source": [
    "* print常见用法"
   ]
  },
  {
   "cell_type": "code",
   "execution_count": 22,
   "metadata": {},
   "outputs": [
    {
     "name": "stdout",
     "output_type": "stream",
     "text": [
      "1 1 加逗号可以扩展输出\n",
      "x1加x2等于2\n",
      "520.131400约等于520.13，对吧\n"
     ]
    }
   ],
   "source": [
    "print(x1,x2,\"加逗号可以扩展输出\")\n",
    "print(\"x1加x2等于{}\".format(x1+x2)) # print(\"xxx{}\".format())常用\n",
    "print(\"%f约等于%.2f，%s\"%(520.1314, 520.1314, \"对吧\"))"
   ]
  },
  {
   "cell_type": "code",
   "execution_count": 4,
   "metadata": {},
   "outputs": [
    {
     "name": "stdout",
     "output_type": "stream",
     "text": [
      "False\n",
      "True\n",
      "False\n",
      "False\n"
     ]
    }
   ],
   "source": [
    "# 比较大小\n",
    "print(x1 < x2)\n",
    "print(x1 == x2)\n",
    "print(x1 > x2)\n",
    "print(x1 != x2)"
   ]
  },
  {
   "cell_type": "markdown",
   "metadata": {},
   "source": [
    "# 数据类型"
   ]
  },
  {
   "cell_type": "markdown",
   "metadata": {},
   "source": [
    "- None后面会用到\n",
    "- Number: int()或float();数值\n",
    "- Bool: True False\n",
    "- str(): 文本/string，可以看作list来操作\n",
    "\n",
    "- list: [1,2,3,...]; 列表用中括号\n",
    "- Tuple: (\"a\", \"b\", \"b\", \"c\", ...); 小括号\n",
    "- Set: (\"a\", \"b\", \"c\", ...); 集合，元素不能重复\n",
    "- dictionary: {\"index1\": 1, \"index2\", 2, ...}; dict用大括号"
   ]
  },
  {
   "cell_type": "code",
   "execution_count": 24,
   "metadata": {},
   "outputs": [
    {
     "name": "stdout",
     "output_type": "stream",
     "text": [
      "<class 'NoneType'>\n"
     ]
    }
   ],
   "source": [
    "#None\n",
    "print(type(None))# type() 查看数据类型的函数"
   ]
  },
  {
   "cell_type": "markdown",
   "metadata": {},
   "source": [
    "## 列表"
   ]
  },
  {
   "cell_type": "markdown",
   "metadata": {},
   "source": [
    "注意python中list[0]为第一个元素，list[1]为第二个元素，以此类推"
   ]
  },
  {
   "cell_type": "code",
   "execution_count": 9,
   "metadata": {},
   "outputs": [
    {
     "name": "stdout",
     "output_type": "stream",
     "text": [
      "6\n",
      "1\n",
      "[1, 2]\n",
      "6\n",
      "[5, '6']\n"
     ]
    }
   ],
   "source": [
    "x = [1,2,3,4,5,\"6\"]#双引号引着的都是文本\n",
    "print(len(x))#输出列表长度\n",
    "print(x[0])#输出列表第一个元素\n",
    "print(x[:2])#输出列表前两个元素\n",
    "print(x[-1])#输出列表最后一个元素\n",
    "print(x[-2:])#输出列表最后两个元素"
   ]
  },
  {
   "cell_type": "markdown",
   "metadata": {},
   "source": [
    "range(0,10)\n",
    "#输出等差序列，默认为+1的等差序列；range(0,10,2)则是+2的等差序列,0为起点；\n",
    "\n",
    "**注意：**10为终点+1，实际输出到9结束"
   ]
  },
  {
   "cell_type": "markdown",
   "metadata": {
    "collapsed": true
   },
   "source": [
    "## 文本"
   ]
  },
  {
   "cell_type": "markdown",
   "metadata": {},
   "source": [
    "> 文本/string 本身也是list类型"
   ]
  },
  {
   "cell_type": "code",
   "execution_count": 29,
   "metadata": {},
   "outputs": [
    {
     "data": {
      "text/plain": [
       "'好孩子'"
      ]
     },
     "execution_count": 29,
     "metadata": {},
     "output_type": "execute_result"
    }
   ],
   "source": [
    "string1 = \"我们都是好孩子\"\n",
    "string1[-3:]"
   ]
  },
  {
   "cell_type": "code",
   "execution_count": 30,
   "metadata": {},
   "outputs": [
    {
     "data": {
      "text/plain": [
       "'大家都是好孩子'"
      ]
     },
     "execution_count": 30,
     "metadata": {},
     "output_type": "execute_result"
    }
   ],
   "source": [
    "\"大家\"+string1[2:] #+可以连接字符串,若非字符串，先用str()转成字符串再相接"
   ]
  },
  {
   "cell_type": "code",
   "execution_count": 5,
   "metadata": {
    "collapsed": true
   },
   "outputs": [],
   "source": [
    "    string2 = \"i am thinking big dream\"\n",
    "\n",
    "    string2_upper = string2.upper()#小写字母大写，小写用lower\n",
    "\n",
    "    string2.split(\" \")#通过分隔符\" \"切割成list，类似Excel split用法"
   ]
  },
  {
   "cell_type": "code",
   "execution_count": 10,
   "metadata": {},
   "outputs": [
    {
     "data": {
      "text/plain": [
       "str"
      ]
     },
     "execution_count": 10,
     "metadata": {},
     "output_type": "execute_result"
    }
   ],
   "source": [
    "type(x[-1])"
   ]
  },
  {
   "cell_type": "code",
   "execution_count": 11,
   "metadata": {},
   "outputs": [
    {
     "data": {
      "text/plain": [
       "6"
      ]
     },
     "execution_count": 11,
     "metadata": {},
     "output_type": "execute_result"
    }
   ],
   "source": [
    "int(x[-1])"
   ]
  },
  {
   "cell_type": "code",
   "execution_count": 12,
   "metadata": {},
   "outputs": [
    {
     "data": {
      "text/plain": [
       "int"
      ]
     },
     "execution_count": 12,
     "metadata": {},
     "output_type": "execute_result"
    }
   ],
   "source": [
    "type(int(x[-1]))"
   ]
  },
  {
   "cell_type": "markdown",
   "metadata": {},
   "source": [
    "## Set交并差运算"
   ]
  },
  {
   "cell_type": "code",
   "execution_count": 31,
   "metadata": {},
   "outputs": [
    {
     "name": "stdout",
     "output_type": "stream",
     "text": [
      "交集set1 & set2: {3, 4}\n",
      "并集set1 | set2: {1, 2, 3, 4, 5, 6}\n",
      "差集set1 ^ set2: {1, 2, 5, 6}\n"
     ]
    }
   ],
   "source": [
    "set1 = set([1, 2, 3, 4])\n",
    "set2 = set([3, 4, 5, 6])\n",
    "\n",
    "print(\"交集set1 & set2: \" + str(set1 & set2))\n",
    "print(\"并集set1 | set2: \" + str(set1 | set2))\n",
    "print(\"差集set1 ^ set2: \" + str(set1 ^ set2))\n",
    "#可以看出，小学公式（小学没学差集概念，只有韦恩图）：差集 + 交集 = 并集"
   ]
  },
  {
   "cell_type": "markdown",
   "metadata": {},
   "source": [
    "# 循环"
   ]
  },
  {
   "cell_type": "code",
   "execution_count": 14,
   "metadata": {},
   "outputs": [
    {
     "name": "stdout",
     "output_type": "stream",
     "text": [
      "1\n",
      "4\n",
      "9\n",
      "16\n",
      "25\n",
      "36\n",
      "49\n",
      "64\n",
      "81\n"
     ]
    }
   ],
   "source": [
    "for i in range(1,10):\n",
    "    print(i**2)#计算平方"
   ]
  },
  {
   "cell_type": "code",
   "execution_count": 15,
   "metadata": {
    "collapsed": true
   },
   "outputs": [],
   "source": [
    "#将x**2放进y\n",
    "y = []\n",
    "x = range(1,10)\n",
    "for i in x:\n",
    "    y.append(i**2)#list 后面接.append可以添加元素；摁Tab可以查看list.后可接什么；摁?y.append()可查看用法"
   ]
  },
  {
   "cell_type": "code",
   "execution_count": 20,
   "metadata": {},
   "outputs": [
    {
     "data": {
      "text/plain": [
       "45"
      ]
     },
     "execution_count": 20,
     "metadata": {},
     "output_type": "execute_result"
    }
   ],
   "source": [
    "sum(x)"
   ]
  },
  {
   "cell_type": "code",
   "execution_count": 19,
   "metadata": {},
   "outputs": [
    {
     "data": {
      "image/png": "[encoded data removed]",
      "text/plain": [
       "<matplotlib.figure.Figure at 0x892fb38>"
      ]
     },
     "metadata": {},
     "output_type": "display_data"
    }
   ],
   "source": [
    "    import matplotlib.pyplot as plt\n",
    "    plt.plot(x,y)\n",
    "    plt.title(\"y=x^2 (x>0)\")\n",
    "    #plt.再摁Tab可看plt接法，不清楚再?plt.title()；更方便直接百度\"python如何画XX图\"（google更好）\n",
    "    plt.show()"
   ]
  },
  {
   "cell_type": "markdown",
   "metadata": {},
   "source": [
    "# 函数"
   ]
  },
  {
   "cell_type": "code",
   "execution_count": 24,
   "metadata": {
    "collapsed": true
   },
   "outputs": [],
   "source": [
    "def Calculate_SE(x, y):\n",
    "    \"\"\"\n",
    "    注释可要可不要，最好还是添加\n",
    "    input: x type: list\n",
    "           y type: list\n",
    "           length of x equals length of y\n",
    "    output: mean square error of x, and y\n",
    "    such as: x = [1,2,3] y = [2,3,3]\n",
    "             output (1-2)**2 + (2-3)**2 + (3-3)**2 = 2\n",
    "    \"\"\"\n",
    "    minus_square = 0#之后接纳元素差的平方\n",
    "    for i in range(len(x)):\n",
    "        minus_square = minus_square + (x[i]-y[i])**2 #或用+=写法\n",
    "    return(minus_square)"
   ]
  },
  {
   "cell_type": "code",
   "execution_count": 25,
   "metadata": {},
   "outputs": [
    {
     "data": {
      "text/plain": [
       "3"
      ]
     },
     "execution_count": 25,
     "metadata": {},
     "output_type": "execute_result"
    }
   ],
   "source": [
    "a = [1,2,3]\n",
    "b = [2,3,4]\n",
    "Calculate_MSE(a, b)"
   ]
  },
  {
   "cell_type": "markdown",
   "metadata": {},
   "source": [
    "当然最方便的方法是调用函数包 import XXX"
   ]
  },
  {
   "cell_type": "code",
   "execution_count": 28,
   "metadata": {},
   "outputs": [
    {
     "data": {
      "text/plain": [
       "3"
      ]
     },
     "execution_count": 28,
     "metadata": {},
     "output_type": "execute_result"
    }
   ],
   "source": [
    "import numpy as np#as np可要可不要，是种偷懒写法，之后直接写np.XXX引用函数，摁Tab可以查看np.接什么函数\n",
    "a = np.array(a)\n",
    "b = np.array(b)\n",
    "sum((a-b)**2)"
   ]
  },
  {
   "cell_type": "markdown",
   "metadata": {},
   "source": [
    "> 试着完成一个九九乘法表; 九可以替换成其他的数，用def 变成一个函数\n",
    "\n",
    "下章讲numpy、pandas和matplotlib.pyplot常用的包"
   ]
  },
  {
   "cell_type": "code",
   "execution_count": 35,
   "metadata": {},
   "outputs": [
    {
     "name": "stdout",
     "output_type": "stream",
     "text": [
      "0\n"
     ]
    }
   ],
   "source": [
    "for i in range(1):\n",
    "    print(i)"
   ]
  },
  {
   "cell_type": "code",
   "execution_count": 42,
   "metadata": {
    "scrolled": true
   },
   "outputs": [
    {
     "name": "stdout",
     "output_type": "stream",
     "text": [
      "1*1=1 \n",
      "1*2=2 2*2=4 \n",
      "1*3=3 2*3=6 3*3=9 \n",
      "1*4=4 2*4=8 3*4=12 4*4=16 \n",
      "1*5=5 2*5=10 3*5=15 4*5=20 5*5=25 \n",
      "1*6=6 2*6=12 3*6=18 4*6=24 5*6=30 6*6=36 \n",
      "1*7=7 2*7=14 3*7=21 4*7=28 5*7=35 6*7=42 7*7=49 \n",
      "1*8=8 2*8=16 3*8=24 4*8=32 5*8=40 6*8=48 7*8=56 8*8=64 \n",
      "1*9=9 2*9=18 3*9=27 4*9=36 5*9=45 6*9=54 7*9=63 8*9=72 9*9=81 \n"
     ]
    }
   ],
   "source": [
    "\n",
    "for i in range(0,9):\n",
    "    show = \"\"\n",
    "    for j in range(i+1):\n",
    "        square = (j+1)*(i+1)\n",
    "        #print(str(j+1)+\"*\"+str(i+1)+\"=\"+str(square)+\" \")\n",
    "        show += (str(j+1)+\"*\"+str(i+1)+\"=\"+str(square)+\" \")\n",
    "    print(show)\n",
    "    #show += \"\\n\""
   ]
  },
  {
   "cell_type": "code",
   "execution_count": 43,
   "metadata": {
    "collapsed": true
   },
   "outputs": [],
   "source": [
    "def matrix_table(n=9):#如果不赋值，默认input为9\n",
    "    \"\"\"\n",
    "    input: n int\n",
    "    output: n! table\n",
    "    \"\"\"\n",
    "    for i in range(0,n):\n",
    "        show = \"\"\n",
    "        for j in range(i+1):\n",
    "            square = (j+1)*(i+1)\n",
    "            #print(str(j+1)+\"*\"+str(i+1)+\"=\"+str(square)+\" \")\n",
    "            show += (str(j+1)+\"*\"+str(i+1)+\"=\"+str(square)+\" \")\n",
    "        print(show)"
   ]
  },
  {
   "cell_type": "code",
   "execution_count": 44,
   "metadata": {},
   "outputs": [
    {
     "name": "stdout",
     "output_type": "stream",
     "text": [
      "1*1=1 \n",
      "1*2=2 2*2=4 \n",
      "1*3=3 2*3=6 3*3=9 \n",
      "1*4=4 2*4=8 3*4=12 4*4=16 \n",
      "1*5=5 2*5=10 3*5=15 4*5=20 5*5=25 \n",
      "1*6=6 2*6=12 3*6=18 4*6=24 5*6=30 6*6=36 \n",
      "1*7=7 2*7=14 3*7=21 4*7=28 5*7=35 6*7=42 7*7=49 \n",
      "1*8=8 2*8=16 3*8=24 4*8=32 5*8=40 6*8=48 7*8=56 8*8=64 \n",
      "1*9=9 2*9=18 3*9=27 4*9=36 5*9=45 6*9=54 7*9=63 8*9=72 9*9=81 \n",
      "1*10=10 2*10=20 3*10=30 4*10=40 5*10=50 6*10=60 7*10=70 8*10=80 9*10=90 10*10=100 \n"
     ]
    }
   ],
   "source": [
    "matrix_table(10)"
   ]
  }
 ],
 "metadata": {
  "kernelspec": {
   "display_name": "Python 3",
   "language": "python",
   "name": "python3"
  },
  "language_info": {
   "codemirror_mode": {
    "name": "ipython",
    "version": 3
   },
   "file_extension": ".py",
   "mimetype": "text/x-python",
   "name": "python",
   "nbconvert_exporter": "python",
   "pygments_lexer": "ipython3",
   "version": "3.5.2"
  },
  "toc": {
   "base_numbering": 1,
   "nav_menu": {},
   "number_sections": true,
   "sideBar": true,
   "skip_h1_title": false,
   "title_cell": "Table of Contents",
   "title_sidebar": "Contents",
   "toc_cell": true,
   "toc_position": {},
   "toc_section_display": true,
   "toc_window_display": false
  }
 },
 "nbformat": 4,
 "nbformat_minor": 2
}
